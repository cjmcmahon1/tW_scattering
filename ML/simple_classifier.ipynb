{
 "cells": [
  {
   "cell_type": "markdown",
   "metadata": {},
   "source": [
    "# A simple example for machine learning with uproot / coffea\n",
    "\n",
    "Let's try to distinguish DY from tt with rather low level inputs, and then compare to a simple M(ll) based discriminator.\n",
    "\n",
    "The notebook was tested to run in a conda environment created with:\n",
    "```\n",
    "conda create --name coffeadev uproot dask dask-jobqueue matplotlib pandas jupyter hdfs3 pyarrow fastparquet numba numexpr coffea -y\n",
    "```\n",
    "\n",
    "The following packages need to be installed with pip:\n",
    "```\n",
    "pip install yahist klepto onnxruntime sklearn lbn\n",
    "```"
   ]
  },
  {
   "cell_type": "code",
   "execution_count": 44,
   "metadata": {},
   "outputs": [],
   "source": [
    "import uproot\n",
    "import awkward as ak\n",
    "import numpy as np\n",
    "import pandas as pd\n",
    "\n",
    "%matplotlib inline\n",
    "import matplotlib\n",
    "import matplotlib.pyplot as plt\n",
    "from matplotlib.colors import LogNorm\n",
    "\n",
    "import tensorflow as tf\n",
    "\n",
    "from coffea.nanoevents import NanoEventsFactory, NanoAODSchema\n",
    "from coffea.analysis_tools import Weights, PackedSelection"
   ]
  },
  {
   "cell_type": "code",
   "execution_count": 45,
   "metadata": {},
   "outputs": [],
   "source": [
    "from sklearn.metrics import roc_curve, roc_auc_score, auc\n",
    "from sklearn.model_selection import train_test_split"
   ]
  },
  {
   "cell_type": "code",
   "execution_count": 46,
   "metadata": {},
   "outputs": [
    {
     "name": "stdout",
     "output_type": "stream",
     "text": [
      "Have 500000 signal events and 500000 background events\n"
     ]
    }
   ],
   "source": [
    "\n",
    "# Load some prepared data\n",
    "sig_file = \"/hadoop/cms/store/user/dspitzba/nanoAOD/ttw_samples/topW_v0.2.3/TTTo2L2Nu_TuneCP5_13TeV-powheg-pythia8_RunIIAutumn18NanoAODv7-Nano02Apr2020_102X_upgrade2018_realistic_v21-v1/nanoSkim_1.root\"\n",
    "bkg_file = \"/hadoop/cms/store/user/dspitzba/nanoAOD/ttw_samples/topW_v0.2.3/DYJetsToLL_M-50_TuneCP5_13TeV-madgraphMLM-pythia8_RunIIAutumn18NanoAODv7-Nano02Apr2020_102X_upgrade2018_realistic_v21-v1/nanoSkim_1.root\"\n",
    "\n",
    "sig = NanoEventsFactory.from_root(bkg_file, schemaclass = NanoAODSchema, entry_stop = int(5e5)).events()\n",
    "bkg = NanoEventsFactory.from_root(sig_file, schemaclass = NanoAODSchema, entry_stop = int(5e5)).events()\n",
    "\n",
    "print (\"Have %s signal events and %s background events\"%(len(sig), len(bkg)))\n"
   ]
  },
  {
   "cell_type": "code",
   "execution_count": 47,
   "metadata": {},
   "outputs": [],
   "source": [
    "from Tools.objects import Collections, choose\n",
    "from Tools.basic_objects import getJets"
   ]
  },
  {
   "cell_type": "markdown",
   "metadata": {},
   "source": [
    "We want to apply some very basic event selection, and convert our awkward arrays into a pandas dataframe that's more commonly used in ML.\n",
    "\n",
    "Because we are interested in a DY (Z->ll) vs ttbar discriminator we select events with exactly two leptons. We can also e.g. extract the leading jet momentum, missing transverse momentum etc.\n",
    "\n",
    "We also calculate the invariant mass of the leptons, because we want to compare our neural network with a simple cut-and-count discriminator on M(ll)."
   ]
  },
  {
   "cell_type": "code",
   "execution_count": 48,
   "metadata": {},
   "outputs": [],
   "source": [
    "def convertToDF( df ):\n",
    "\n",
    "    electrons = Collections(df, 'Electron', 'tightTTH', verbose=0).get()\n",
    "    muons = Collections(df, 'Muon', 'tightTTH', verbose=0).get()\n",
    "        \n",
    "    jets = getJets(df)\n",
    "    \n",
    "    eventSelection = ( ((ak.num(electrons, axis=1) + ak.num(muons, axis=1))==2) & (ak.num(jets, axis=1)>0)  )\n",
    "    \n",
    "    df = df[eventSelection]\n",
    "    jets = jets[eventSelection]\n",
    "    electrons = electrons[eventSelection]\n",
    "    muons = muons[eventSelection]\n",
    "    \n",
    "    leptons = ak.concatenate([electrons, muons], axis=1)\n",
    "\n",
    "    leading_jet_idx = ak.singletons(ak.argmax(jets.pt, axis=1))\n",
    "    leading_jet = jets[leading_jet_idx]\n",
    "    \n",
    "    leading_lepton_idx = ak.singletons(ak.argmax(leptons.pt, axis=1))\n",
    "    trailing_lepton_idx = ak.singletons(ak.argmin(leptons.pt, axis=1))\n",
    "    \n",
    "    leading_lepton = leptons[leading_lepton_idx]\n",
    "    \n",
    "    trailing_lepton = leptons[trailing_lepton_idx] # this works because we select events with just two leptons in the end\n",
    "    \n",
    "    dileptons = choose(leptons,2)\n",
    "    \n",
    "    return pd.DataFrame({\n",
    "            'leadingJet_pt': ak.flatten(leading_jet.pt, axis=1), \n",
    "            'lep0_pt': ak.flatten(leading_lepton.pt, axis=1),\n",
    "            'lep0_eta': ak.flatten(leading_lepton.eta, axis=1),\n",
    "            'lep0_phi': ak.flatten(leading_lepton.phi, axis=1),\n",
    "            'lep0_mass': ak.flatten(leading_lepton.mass, axis=1),\n",
    "            'lep1_pt': ak.flatten(trailing_lepton.pt, axis=1),\n",
    "            'lep1_eta': ak.flatten(trailing_lepton.eta, axis=1),\n",
    "            'lep1_phi': ak.flatten(trailing_lepton.phi, axis=1),\n",
    "            'lep1_mass': ak.flatten(trailing_lepton.mass, axis=1),\n",
    "            'mll': ak.flatten(dileptons.mass, axis=1), \n",
    "            'dilepton_pt': ak.flatten(dileptons.pt, axis=1),\n",
    "            'MET_pt': df.MET.pt,\n",
    "    })\n",
    "\n",
    "\n"
   ]
  },
  {
   "cell_type": "code",
   "execution_count": 49,
   "metadata": {
    "scrolled": false
   },
   "outputs": [],
   "source": [
    "sig_df = convertToDF( sig )\n",
    "bkg_df = convertToDF( bkg )"
   ]
  },
  {
   "cell_type": "code",
   "execution_count": 50,
   "metadata": {},
   "outputs": [
    {
     "name": "stdout",
     "output_type": "stream",
     "text": [
      "Total number of signal: 257266, background: 134298\n"
     ]
    }
   ],
   "source": [
    "# usually we have less signal than background, but we balance our data sets in both directions\n",
    "nSignal = len(sig_df)\n",
    "nBkg = len(bkg_df)\n",
    "\n",
    "print (\"Total number of signal: %s, background: %s\"%(nSignal, nBkg))\n",
    "\n",
    "# Balance the signal and background sets\n",
    "if nBkg>nSignal:\n",
    "    tmp_bkg_df = bkg_df.sample( n = nSignal )\n",
    "    tmp_sig_df = sig_df\n",
    "else:\n",
    "    tmp_bkg_df = bkg_df\n",
    "    tmp_sig_df = sig_df.sample( n = nBkg )\n",
    "    \n",
    "y_sig = np.ones(len(tmp_sig_df))\n",
    "y_bkg = np.zeros(len(tmp_bkg_df))\n",
    "y_tmp = np.concatenate((y_sig,y_bkg))\n",
    "\n",
    "# merge signal and background\n",
    "frames = [tmp_sig_df, tmp_bkg_df]\n",
    "X_tmp = pd.concat(frames)"
   ]
  },
  {
   "cell_type": "code",
   "execution_count": 51,
   "metadata": {},
   "outputs": [],
   "source": [
    "# Splitting in training and test samples\n",
    "X_tmp_train, X_tmp_test, y_train, y_test = train_test_split(X_tmp, y_tmp, train_size= int( 0.5*y_tmp.shape[0] ), random_state=42 )"
   ]
  },
  {
   "cell_type": "markdown",
   "metadata": {},
   "source": [
    "Here we define the variables we want to use for the neural network training. The more information we add, the better the discriminator (or NN response) will be. If we e.g. only use the lepton mass and pt, the neural network will not be able to learn enough to reproduce the performance of the invariant mass of the two leptons."
   ]
  },
  {
   "cell_type": "code",
   "execution_count": 52,
   "metadata": {},
   "outputs": [],
   "source": [
    "#variables = ['lep0_pt', 'lep0_eta', 'lep0_phi', 'lep1_pt', 'lep1_eta', 'lep1_phi']\n",
    "variables = ['lep0_mass', 'lep0_pt', 'lep1_mass', 'lep1_pt']\n",
    "\n",
    "\n",
    "X_train = X_tmp_train[variables]\n",
    "X_test = X_tmp_test[variables]\n",
    "X_myTest = X_tmp_test[['mll', 'MET_pt']]"
   ]
  },
  {
   "cell_type": "code",
   "execution_count": 53,
   "metadata": {},
   "outputs": [
    {
     "name": "stdout",
     "output_type": "stream",
     "text": [
      "Model: \"sequential_3\"\n",
      "_________________________________________________________________\n",
      "Layer (type)                 Output Shape              Param #   \n",
      "=================================================================\n",
      "dense_18 (Dense)             (None, 8)                 40        \n",
      "_________________________________________________________________\n",
      "dense_19 (Dense)             (None, 64)                576       \n",
      "_________________________________________________________________\n",
      "dense_20 (Dense)             (None, 128)               8320      \n",
      "_________________________________________________________________\n",
      "dense_21 (Dense)             (None, 64)                8256      \n",
      "_________________________________________________________________\n",
      "dense_22 (Dense)             (None, 8)                 520       \n",
      "_________________________________________________________________\n",
      "dense_23 (Dense)             (None, 1)                 9         \n",
      "=================================================================\n",
      "Total params: 17,721\n",
      "Trainable params: 17,721\n",
      "Non-trainable params: 0\n",
      "_________________________________________________________________\n"
     ]
    }
   ],
   "source": [
    "NHLayer = 5\n",
    "epochs = 500\n",
    "batch_size = 5120\n",
    "validation_split = 0.2\n",
    "\n",
    "# define the model. Which one is the best suited for our problem?\n",
    "model = tf.keras.models.Sequential()\n",
    "\n",
    "# add layers. we can play a bit with the hyper parameters here\n",
    "model.add( tf.keras.layers.Dense(units=8, activation='relu', input_dim=X_train.shape[1], ))\n",
    "#model.add( tf.keras.layers.Dropout( rate = 0.1 ) )\n",
    "\n",
    "model.add( tf.keras.layers.Dense(units=64, activation='relu' ) )\n",
    "#model.add( tf.keras.layers.Dropout( rate = 0.1 ) )\n",
    "\n",
    "model.add( tf.keras.layers.Dense(units=128, activation='relu' ) )\n",
    "#model.add( tf.keras.layers.Dropout( rate = 0.1 ) )\n",
    "\n",
    "model.add( tf.keras.layers.Dense(units=64, activation='relu' ) )\n",
    "#model.add( tf.keras.layers.Dropout( rate = 0.1 ) )\n",
    "\n",
    "model.add( tf.keras.layers.Dense(units=8, activation='relu' ) )\n",
    "#model.add( tf.keras.layers.Dropout( rate = 0.1 ) )\n",
    "\n",
    "model.add( tf.keras.layers.Dense(units=1, activation='sigmoid' ) ) \n",
    "\n",
    "# compile the model\n",
    "model.compile( loss='binary_crossentropy', optimizer='rmsprop', metrics=['acc'])\n",
    "\n",
    "model.summary()\n",
    "\n",
    "## Editor's note: don't go too crazy with nodes and layers if the data set is small or nothing will be learned at all.\n"
   ]
  },
  {
   "cell_type": "code",
   "execution_count": 54,
   "metadata": {
    "scrolled": true
   },
   "outputs": [
    {
     "name": "stdout",
     "output_type": "stream",
     "text": [
      "INFO:tensorflow:Assets written to: training.h5a/assets\n"
     ]
    }
   ],
   "source": [
    "# Fit the model to our training data. This can take a few minutes to run.\n",
    "\n",
    "history = model.fit(X_train.values, y_train, epochs=epochs, batch_size=batch_size, validation_split=validation_split, verbose=0)\n",
    "model.save( 'training.h5a' )"
   ]
  },
  {
   "cell_type": "markdown",
   "metadata": {},
   "source": [
    "We can then look at the loss and accuracy in training and validation. A sign of overfitting would be if we the performance is very different in training and validation."
   ]
  },
  {
   "cell_type": "code",
   "execution_count": 55,
   "metadata": {},
   "outputs": [
    {
     "data": {
      "text/plain": [
       "<matplotlib.legend.Legend at 0x7f1e49f45730>"
      ]
     },
     "execution_count": 55,
     "metadata": {},
     "output_type": "execute_result"
    },
    {
     "data": {
      "image/png": "[encoded data removed]",
      "text/plain": [
       "<Figure size 432x288 with 1 Axes>"
      ]
     },
     "metadata": {
      "needs_background": "light"
     },
     "output_type": "display_data"
    }
   ],
   "source": [
    "history_dict = history.history\n",
    "\n",
    "loss_values  = history_dict['loss']\n",
    "acc_values = history_dict['acc']\n",
    "\n",
    "epochslist = range(1,  len(loss_values)+1)\n",
    "        \n",
    "plt.plot(epochslist, loss_values, 'blue', label='Training loss')\n",
    "plt.plot(epochslist, acc_values,'green', label='Training accuracy')\n",
    "try:\n",
    "    val_loss_values = history_dict['val_loss']\n",
    "    plt.plot(epochslist, val_loss_values, 'red', label='Validation loss')\n",
    "    val_acc_values = history_dict['val_acc']\n",
    "    plt.plot(epochslist, val_acc_values, 'orange', label='Validation accuracy')\n",
    "except KeyError:\n",
    "    print (\"Didn't find validation loss\")\n",
    "\n",
    "plt.title('Training and validation loss (Valid. split = ' + str( validation_split ) + ')')\n",
    "plt.xlabel('Epochs  ( batch_size = ' + str( batch_size ) + ')')\n",
    "plt.ylabel('Loss')\n",
    "plt.legend()"
   ]
  },
  {
   "cell_type": "code",
   "execution_count": 56,
   "metadata": {},
   "outputs": [],
   "source": [
    "# use the model to predict whether an event is signal or background\n",
    "y_test_pred = pd.DataFrame( model.predict( X_test.values  ) , index = X_test.index)\n",
    "\n",
    "# as a comparison, use a mll based discriminator:\n",
    "y_test_pred_mll = (1-abs(X_myTest[['mll']]-91.2)/91.2).values.flatten()"
   ]
  },
  {
   "cell_type": "code",
   "execution_count": 59,
   "metadata": {
    "scrolled": false
   },
   "outputs": [
    {
     "data": {
      "text/plain": [
       "Text(0, 0.5, 'Events')"
      ]
     },
     "execution_count": 59,
     "metadata": {},
     "output_type": "execute_result"
    },
    {
     "data": {
      "image/png": "[encoded data removed]",
      "text/plain": [
       "<Figure size 432x288 with 1 Axes>"
      ]
     },
     "metadata": {
      "needs_background": "light"
     },
     "output_type": "display_data"
    }
   ],
   "source": [
    "# Look at a plot of the discriminator.\n",
    "# Ideally, the two populations (signal and background) are completely seperated.\n",
    "# In reality, there will be some remaining overlap.\n",
    "\n",
    "xbin = 20\n",
    "hist, bins, ax = plt.hist( [\n",
    "    y_test_pred[y_test==0].values.flatten(),\n",
    "    y_test_pred[y_test==1].values.flatten(),\n",
    "], xbin, log=False, label=['Background ('+ str((y_test==0).sum()) +')' ,'Signal ('+ str((y_test==1).sum()) +')'], histtype='stepfilled', alpha=0.5) \n",
    "plt.xlabel('NN response')\n",
    "plt.ylabel('Events')"
   ]
  },
  {
   "cell_type": "code",
   "execution_count": 60,
   "metadata": {},
   "outputs": [
    {
     "data": {
      "text/plain": [
       "Text(0, 0.5, 'Events')"
      ]
     },
     "execution_count": 60,
     "metadata": {},
     "output_type": "execute_result"
    },
    {
     "data": {
      "image/png": "[encoded data removed]",
      "text/plain": [
       "<Figure size 432x288 with 1 Axes>"
      ]
     },
     "metadata": {
      "needs_background": "light"
     },
     "output_type": "display_data"
    }
   ],
   "source": [
    "# Compare that distribution with M(ll)\n",
    "\n",
    "xbin = range(0,200,10)\n",
    "hist, bins, ax = plt.hist( [\n",
    "    X_myTest[['mll']][y_test==0].values.flatten(),\n",
    "    X_myTest[['mll']][y_test==1].values.flatten(),\n",
    "], xbin, log=False, histtype='stepfilled', alpha=0.5) \n",
    "plt.xlabel(r'$M_{\\ell\\ell}\\ (GeV)$')\n",
    "plt.ylabel('Events')"
   ]
  },
  {
   "cell_type": "code",
   "execution_count": 61,
   "metadata": {
    "scrolled": true
   },
   "outputs": [
    {
     "name": "stdout",
     "output_type": "stream",
     "text": [
      "67358\n",
      "66940\n"
     ]
    }
   ],
   "source": [
    "# check of sample sizes\n",
    "print(y_test_pred[y_test==0].size)\n",
    "print(y_test_pred[y_test==1].size)"
   ]
  },
  {
   "cell_type": "markdown",
   "metadata": {},
   "source": [
    "The ROC curve, and especially the area under the curve (AUC) give us an idea of the performance of our NN, and a comparison to the M(ll) approach."
   ]
  },
  {
   "cell_type": "code",
   "execution_count": 62,
   "metadata": {},
   "outputs": [
    {
     "data": {
      "text/plain": [
       "<matplotlib.legend.Legend at 0x7f1e4b3a9670>"
      ]
     },
     "execution_count": 62,
     "metadata": {},
     "output_type": "execute_result"
    },
    {
     "data": {
      "image/png": "[encoded data removed]",
      "text/plain": [
       "<Figure size 432x288 with 1 Axes>"
      ]
     },
     "metadata": {
      "needs_background": "light"
     },
     "output_type": "display_data"
    }
   ],
   "source": [
    "fpr_test, tpr_test, thresholds_test = roc_curve( y_test, y_test_pred )\n",
    "auc_val_test = auc(fpr_test, tpr_test)\n",
    "\n",
    "plt.plot( tpr_test, 1-fpr_test, color='blue', label= 'AUC NN=' + str(round(auc_val_test,4) ))\n",
    "\n",
    "fpr_test_alt, tpr_test_alt, thresholds_test_alt = roc_curve( y_test, y_test_pred_mll )\n",
    "auc_val_test_alt = auc(fpr_test_alt, tpr_test_alt)\n",
    "\n",
    "plt.plot( tpr_test_alt, 1-fpr_test_alt, label= 'AUC M(ll)=' + str(round(auc_val_test_alt,4) ), color='red')\n",
    "\n",
    "plt.title('ROC (sample info: ' + str( len( X_test[y_test == 1] ) + len( X_train[y_train == 1] ) ) + ' signals / '\n",
    "                                              + str( len( X_test[y_test == 0] ) + len( X_train[y_train == 0] ) ) + ' background)'  )\n",
    "plt.xlabel('$\\epsilon_{Sig}$', fontsize = 20) # 'True positive rate'\n",
    "plt.ylabel('$1-\\epsilon_{Back}$', fontsize = 20) #  '1-False positive rate' \n",
    "plt.legend(loc ='lower left')\n"
   ]
  },
  {
   "cell_type": "markdown",
   "metadata": {},
   "source": [
    "Some observations:\n",
    "- very similar performance between M(ll) and NN if we use all the lepton kinematics as input to the NN\n",
    "- overtraining seems to be not a big problem, and one can use a large number of epochs\n",
    "- we still use a \"small\" data set\n",
    "- maybe a different model is better suited for our problem?\n",
    "\n",
    "To improve the performance of the NN, we can use more inputs to the NN and rerun the training."
   ]
  },
  {
   "cell_type": "markdown",
   "metadata": {},
   "source": [
    "# Using some physics knowledge (4 vectors)\n",
    "\n",
    "We can try to use a network that knows about 4 vectors and see if this further improves the performance"
   ]
  },
  {
   "cell_type": "code",
   "execution_count": 72,
   "metadata": {},
   "outputs": [],
   "source": [
    "from lbn import LBN, LBNLayer"
   ]
  },
  {
   "cell_type": "code",
   "execution_count": 73,
   "metadata": {},
   "outputs": [],
   "source": [
    "def convertTo4Vec( df ):\n",
    "    \n",
    "    electrons = Collections(df, 'Electron', 'tightTTH', verbose=0).get()\n",
    "    muons = Collections(df, 'Muon', 'tightTTH', verbose=0).get()\n",
    "        \n",
    "    jets = getJets(df)\n",
    "    \n",
    "    eventSelection = ( ((ak.num(electrons, axis=1) + ak.num(muons, axis=1))==2) & (ak.num(jets, axis=1)>0)  )\n",
    "    \n",
    "    df = df[eventSelection]\n",
    "    jets = jets[eventSelection]\n",
    "    electrons = electrons[eventSelection]\n",
    "    muons = muons[eventSelection]\n",
    "    \n",
    "    leptons = ak.concatenate([electrons, muons], axis=1)\n",
    "    \n",
    "    en = ak.concatenate([electrons.energy, muons.energy], axis=1)\n",
    "    px = ak.concatenate([electrons.px, muons.px], axis=1)\n",
    "    py = ak.concatenate([electrons.py, muons.py], axis=1)\n",
    "    pz = ak.concatenate([electrons.pz, muons.pz], axis=1)\n",
    "\n",
    "    leading_jet_idx = ak.singletons(ak.argmax(jets.pt, axis=1))\n",
    "    leading_jet = jets[leading_jet_idx]\n",
    "    \n",
    "    leading_lepton_idx = ak.singletons(ak.argmax(leptons.pt, axis=1))\n",
    "    trailing_lepton_idx = ak.singletons(ak.argmin(leptons.pt, axis=1))\n",
    "      \n",
    "    dileptons = choose(leptons,2)\n",
    "       \n",
    "    leading = np.array(list(zip(\n",
    "        ak.flatten(en[leading_lepton_idx]),\n",
    "        ak.flatten(px[leading_lepton_idx]),\n",
    "        ak.flatten(py[leading_lepton_idx]),\n",
    "        ak.flatten(pz[leading_lepton_idx]),\n",
    "    )))\n",
    "    \n",
    "    trailing = np.array(list(zip(\n",
    "        ak.flatten(en[trailing_lepton_idx]),\n",
    "        ak.flatten(px[trailing_lepton_idx]),\n",
    "        ak.flatten(py[trailing_lepton_idx]),\n",
    "        ak.flatten(pz[trailing_lepton_idx]),\n",
    "    )))\n",
    "\n",
    "    leps = np.array(list(zip(leading, trailing)))\n",
    "    \n",
    "    return leps # not yet sure how to do this. have to zip?"
   ]
  },
  {
   "cell_type": "code",
   "execution_count": 74,
   "metadata": {},
   "outputs": [
    {
     "name": "stdout",
     "output_type": "stream",
     "text": [
      "(257266, 2, 4)\n",
      "(257266,)\n"
     ]
    }
   ],
   "source": [
    "sig = NanoEventsFactory.from_root(bkg_file, schemaclass = NanoAODSchema, entry_stop = int(5e5)).events()\n",
    "bkg = NanoEventsFactory.from_root(sig_file, schemaclass = NanoAODSchema, entry_stop = int(5e5)).events()\n",
    "\n",
    "inputs_sig = convertTo4Vec( sig )\n",
    "inputs_bkg = convertTo4Vec( bkg )\n",
    "\n",
    "nSignal = len(inputs_sig)\n",
    "\n",
    "# training\n",
    "inputs_sig_train = inputs_sig[:int(nSignal/2)]\n",
    "inputs_bkg_train = inputs_bkg[:int(nSignal/2)]\n",
    "\n",
    "inputs = np.concatenate((inputs_sig_train,inputs_bkg_train))\n",
    "\n",
    "# test\n",
    "inputs_sig_test = inputs_sig[int(nSignal/2):nSignal]\n",
    "inputs_bkg_test = inputs_bkg[int(nSignal/2):nSignal]\n",
    "\n",
    "inputs_test = np.concatenate((inputs_sig_test,inputs_bkg_test))\n",
    "\n",
    "\n",
    "# training\n",
    "y_sig = np.ones(len(inputs_sig_train))\n",
    "y_bkg = np.zeros(len(inputs_bkg_train))\n",
    "y_tmp = np.concatenate((y_sig,y_bkg))\n",
    "\n",
    "# test\n",
    "y_sig_test = np.ones(len(inputs_sig_test))\n",
    "y_bkg_test = np.zeros(len(inputs_bkg_test))\n",
    "y_test = np.concatenate((y_sig_test,y_bkg_test))\n",
    "\n",
    "print (np.shape(inputs))\n",
    "print (np.shape(y_tmp))"
   ]
  },
  {
   "cell_type": "code",
   "execution_count": 75,
   "metadata": {},
   "outputs": [],
   "source": [
    "# start a sequential model\n",
    "model = tf.keras.models.Sequential()\n",
    "\n",
    "# add the LBN layer\n",
    "lbn_layer = LBNLayer((2, 4), n_particles=2, boost_mode=LBN.PAIRS, features=[\"E\", \"px\", \"py\", \"pz\"])\n",
    "\n",
    "model.add(lbn_layer)\n",
    "\n",
    "model.add( tf.keras.layers.Dense(units=8, activation='relu' ) )\n",
    "model.add( tf.keras.layers.Dense(units=64, activation='relu' ) )\n",
    "model.add( tf.keras.layers.Dense(units=128, activation='relu' ) )\n",
    "model.add( tf.keras.layers.Dense(units=64, activation='relu' ) )\n",
    "model.add( tf.keras.layers.Dense(units=8, activation='relu' ) )\n",
    "model.add( tf.keras.layers.Dense(units=1, activation='sigmoid' ) ) \n",
    "\n",
    "# compile the model\n",
    "model.compile( loss='binary_crossentropy', optimizer='rmsprop', metrics=['acc'])\n",
    "\n",
    "#model.compile(loss=\"categorical_crossentropy\")\n",
    "\n",
    "features = model.predict(inputs)"
   ]
  },
  {
   "cell_type": "code",
   "execution_count": 76,
   "metadata": {
    "scrolled": true
   },
   "outputs": [],
   "source": [
    "history = model.fit(inputs, y_tmp, epochs=100, batch_size=batch_size, validation_split=validation_split, verbose=0)"
   ]
  },
  {
   "cell_type": "code",
   "execution_count": 77,
   "metadata": {},
   "outputs": [
    {
     "data": {
      "text/plain": [
       "<matplotlib.legend.Legend at 0x7f1e4bd19880>"
      ]
     },
     "execution_count": 77,
     "metadata": {},
     "output_type": "execute_result"
    },
    {
     "data": {
      "image/png": "[encoded data removed]",
      "text/plain": [
       "<Figure size 432x288 with 1 Axes>"
      ]
     },
     "metadata": {
      "needs_background": "light"
     },
     "output_type": "display_data"
    }
   ],
   "source": [
    "history_dict = history.history\n",
    "\n",
    "loss_values  = history_dict['loss']\n",
    "acc_values = history_dict['acc']\n",
    "\n",
    "epochslist = range(1,  len(loss_values)+1)\n",
    "        \n",
    "plt.plot(epochslist, loss_values, color='blue', label='Training loss')\n",
    "plt.plot(epochslist, acc_values, color='green', label='Training accuracy')\n",
    "try:\n",
    "    val_loss_values = history_dict['val_loss']\n",
    "    plt.plot(epochslist, val_loss_values, color='red', label='Validation loss')\n",
    "    val_acc_values = history_dict['val_acc']\n",
    "    plt.plot(epochslist, val_acc_values, color='orange', label='Validation accuracy')\n",
    "except KeyError:\n",
    "    print (\"Didn't find validation loss\")\n",
    "\n",
    "plt.title('Training and validation loss (Valid. split = ' + str( validation_split ) + ')')\n",
    "plt.xlabel('Epochs  ( batch_size = ' + str( batch_size ) + ')')\n",
    "plt.ylabel('Loss')\n",
    "plt.legend()"
   ]
  },
  {
   "cell_type": "code",
   "execution_count": 78,
   "metadata": {},
   "outputs": [],
   "source": [
    "y_test_pred = pd.DataFrame( model.predict( inputs_test  ) )\n",
    "y_train_pred = pd.DataFrame( model.predict( inputs  ) )"
   ]
  },
  {
   "cell_type": "code",
   "execution_count": 79,
   "metadata": {},
   "outputs": [],
   "source": [
    "fpr_test, tpr_test, thresholds_test = roc_curve( y_test, y_test_pred )\n",
    "fpr_train, tpr_train, thresholds_train = roc_curve( y_tmp, y_train_pred )"
   ]
  },
  {
   "cell_type": "code",
   "execution_count": 80,
   "metadata": {},
   "outputs": [
    {
     "data": {
      "text/plain": [
       "<matplotlib.legend.Legend at 0x7f1e4a1ebd30>"
      ]
     },
     "execution_count": 80,
     "metadata": {},
     "output_type": "execute_result"
    },
    {
     "data": {
      "image/png": "[encoded data removed]",
      "text/plain": [
       "<Figure size 432x288 with 1 Axes>"
      ]
     },
     "metadata": {
      "needs_background": "light"
     },
     "output_type": "display_data"
    }
   ],
   "source": [
    "auc_val_test = auc(fpr_test, tpr_test)\n",
    "auc_val_train = auc(fpr_train, tpr_train)\n",
    "\n",
    "plt.plot( tpr_test, 1-fpr_test, 'b', label= 'Test, AUC=' + str(round(auc_val_test,4)))\n",
    "plt.plot( tpr_train, 1-fpr_train, 'g', label= 'Train, AUC=' + str(round(auc_val_train,4)))\n",
    "\n",
    "plt.xlabel('$\\epsilon_{Sig}$', fontsize = 20) # 'True positive rate'\n",
    "plt.ylabel('$1-\\epsilon_{Back}$', fontsize = 20) #  '1-False positive rate' \n",
    "plt.legend(loc ='lower left')"
   ]
  },
  {
   "cell_type": "markdown",
   "metadata": {},
   "source": [
    "For some reason we see quite some difference between the training and validation set in terms of loss an accuracy, hinting at overfitting. However, if we look at the ROC curves and their AUC, we see very similar performance on two independet sets, the training and test set.\n",
    "\n",
    "We see a slightly better performance than with the default NN we used above."
   ]
  },
  {
   "cell_type": "code",
   "execution_count": null,
   "metadata": {},
   "outputs": [],
   "source": []
  }
 ],
 "metadata": {
  "kernelspec": {
   "display_name": "coffeadev4",
   "language": "python",
   "name": "coffeadev4"
  },
  "language_info": {
   "codemirror_mode": {
    "name": "ipython",
    "version": 3
   },
   "file_extension": ".py",
   "mimetype": "text/x-python",
   "name": "python",
   "nbconvert_exporter": "python",
   "pygments_lexer": "ipython3",
   "version": "3.9.4"
  }
 },
 "nbformat": 4,
 "nbformat_minor": 2
}
