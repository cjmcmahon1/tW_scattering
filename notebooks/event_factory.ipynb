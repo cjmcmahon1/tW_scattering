{
 "cells": [
  {
   "cell_type": "markdown",
   "id": "510cac07",
   "metadata": {},
   "source": [
    "# NanoEventsFactory example\n",
    "\n",
    "Load a single file from x-cache (using redirector_ucsd) or the grid (using redirector_fnal), and play with the events.\n"
   ]
  },
  {
   "cell_type": "code",
   "execution_count": 13,
   "id": "a5a3dc8b",
   "metadata": {},
   "outputs": [],
   "source": [
    "from coffea.nanoevents import NanoEventsFactory, NanoAODSchema\n",
    "from coffea.analysis_tools import Weights, PackedSelection\n",
    "\n",
    "from Tools.config_helpers import redirector_fnal, redirector_ucsd\n",
    "from Tools.nano_mapping import make_fileset\n",
    "from Tools.helpers import get_samples\n",
    "\n",
    "import awkward as ak\n",
    "\n",
    "samples = get_samples()\n",
    "\n",
    "fileset = make_fileset(['top'], samples, redirector=redirector_ucsd, small=True)\n",
    "\n",
    "# load a subset of events\n",
    "n_max = 50000000\n",
    "events = NanoEventsFactory.from_root(\n",
    "    fileset[list(fileset.keys())[0]][0],\n",
    "    schemaclass = NanoAODSchema,\n",
    "    entry_stop = n_max).events()\n",
    "\n"
   ]
  },
  {
   "cell_type": "code",
   "execution_count": 14,
   "id": "dcd3021a",
   "metadata": {},
   "outputs": [
    {
     "data": {
      "text/plain": [
       "<Array [51.5, 26.5, 42, ... 67.6, 34.6, 114] type='1140000 * float32[parameters=...'>"
      ]
     },
     "execution_count": 14,
     "metadata": {},
     "output_type": "execute_result"
    }
   ],
   "source": [
    "events.MET.pt"
   ]
  },
  {
   "cell_type": "code",
   "execution_count": 15,
   "id": "3042db85",
   "metadata": {},
   "outputs": [
    {
     "name": "stdout",
     "output_type": "stream",
     "text": [
      "\n",
      "## Electron selection for WP tight ##\n",
      " - pt >= 15\n",
      " - abs(etaSC) <= 2.5\n",
      " - convVeto == 1\n",
      " - lostHits == 0\n",
      " - tightCharge == 2\n",
      " - abs(dxy) <= 0.05\n",
      " - abs(dz) <= 0.1\n",
      " - abs(sip3d) <= 4.0\n",
      " - tight electron MVA ID\n",
      " - custom multi isolation\n",
      " - trigger safe\n",
      " - custom ID and multi-isolation\n",
      "Found 418141 objects passing the selection\n",
      "\n",
      "Took 61.637818574905396 seconds\n"
     ]
    }
   ],
   "source": [
    "import time\n",
    "\n",
    "from Tools.objects import Collections\n",
    "\n",
    "start_time = time.time()\n",
    "electrons = Collections(events, 'Electron', 'tight', verbose=1).get()\n",
    "\n",
    "delta_time = time.time()-start_time\n",
    "\n",
    "print (\"\\nTook %s seconds\"%delta_time)"
   ]
  },
  {
   "cell_type": "code",
   "execution_count": 16,
   "id": "99b847ee",
   "metadata": {},
   "outputs": [
    {
     "data": {
      "text/plain": [
       "<Array [[], [], [], ... [-0.892], []] type='1140000 * var * float32[parameters={...'>"
      ]
     },
     "execution_count": 16,
     "metadata": {},
     "output_type": "execute_result"
    }
   ],
   "source": [
    "electrons.eta"
   ]
  },
  {
   "cell_type": "markdown",
   "id": "7da1560e",
   "metadata": {},
   "source": [
    "You can do anything that you're usually doing inside the processor here as well, so this is very useful for debugging"
   ]
  },
  {
   "cell_type": "code",
   "execution_count": 21,
   "id": "e70d9342",
   "metadata": {},
   "outputs": [
    {
     "data": {
      "text/plain": [
       "415651"
      ]
     },
     "execution_count": 21,
     "metadata": {},
     "output_type": "execute_result"
    }
   ],
   "source": [
    "matched_electrons = electrons[electrons.genPartIdx>=0]\n",
    "sum(ak.num(matched_electrons, axis=1))"
   ]
  },
  {
   "cell_type": "code",
   "execution_count": 25,
   "id": "6f78687c",
   "metadata": {},
   "outputs": [
    {
     "ename": "AttributeError",
     "evalue": "no field named 'etaSc'\n\n(https://github.com/scikit-hep/awkward-1.0/blob/1.2.2/src/awkward/highlevel.py#L1094)",
     "output_type": "error",
     "traceback": [
      "\u001b[0;31m---------------------------------------------------------------------------\u001b[0m",
      "\u001b[0;31mAttributeError\u001b[0m                            Traceback (most recent call last)",
      "\u001b[0;32m<ipython-input-25-05a023ac203e>\u001b[0m in \u001b[0;36m<module>\u001b[0;34m\u001b[0m\n\u001b[0;32m----> 1\u001b[0;31m \u001b[0mtest_ar\u001b[0m \u001b[0;34m=\u001b[0m \u001b[0mak\u001b[0m\u001b[0;34m.\u001b[0m\u001b[0mto_numpy\u001b[0m\u001b[0;34m(\u001b[0m\u001b[0mak\u001b[0m\u001b[0;34m.\u001b[0m\u001b[0mflatten\u001b[0m\u001b[0;34m(\u001b[0m\u001b[0mabs\u001b[0m\u001b[0;34m(\u001b[0m\u001b[0mmatched_electrons\u001b[0m\u001b[0;34m.\u001b[0m\u001b[0metaSc\u001b[0m\u001b[0;34m)\u001b[0m\u001b[0;34m)\u001b[0m\u001b[0;34m)\u001b[0m\u001b[0;34m\u001b[0m\u001b[0;34m\u001b[0m\u001b[0m\n\u001b[0m\u001b[1;32m      2\u001b[0m \u001b[0mtest_ar\u001b[0m\u001b[0;34m[\u001b[0m\u001b[0mtest_ar\u001b[0m\u001b[0;34m>\u001b[0m\u001b[0;36m2.5\u001b[0m\u001b[0;34m]\u001b[0m\u001b[0;34m\u001b[0m\u001b[0;34m\u001b[0m\u001b[0m\n",
      "\u001b[0;32m~/miniconda3/envs/coffeadev3/lib/python3.9/site-packages/awkward/highlevel.py\u001b[0m in \u001b[0;36m__getattr__\u001b[0;34m(self, where)\u001b[0m\n\u001b[1;32m   1090\u001b[0m                     )\n\u001b[1;32m   1091\u001b[0m             \u001b[0;32melse\u001b[0m\u001b[0;34m:\u001b[0m\u001b[0;34m\u001b[0m\u001b[0;34m\u001b[0m\u001b[0m\n\u001b[0;32m-> 1092\u001b[0;31m                 raise AttributeError(\n\u001b[0m\u001b[1;32m   1093\u001b[0m                     \u001b[0;34m\"no field named {0}\"\u001b[0m\u001b[0;34m.\u001b[0m\u001b[0mformat\u001b[0m\u001b[0;34m(\u001b[0m\u001b[0mrepr\u001b[0m\u001b[0;34m(\u001b[0m\u001b[0mwhere\u001b[0m\u001b[0;34m)\u001b[0m\u001b[0;34m)\u001b[0m\u001b[0;34m\u001b[0m\u001b[0;34m\u001b[0m\u001b[0m\n\u001b[1;32m   1094\u001b[0m                     \u001b[0;34m+\u001b[0m \u001b[0mak\u001b[0m\u001b[0;34m.\u001b[0m\u001b[0m_util\u001b[0m\u001b[0;34m.\u001b[0m\u001b[0mexception_suffix\u001b[0m\u001b[0;34m(\u001b[0m\u001b[0m__file__\u001b[0m\u001b[0;34m)\u001b[0m\u001b[0;34m\u001b[0m\u001b[0;34m\u001b[0m\u001b[0m\n",
      "\u001b[0;31mAttributeError\u001b[0m: no field named 'etaSc'\n\n(https://github.com/scikit-hep/awkward-1.0/blob/1.2.2/src/awkward/highlevel.py#L1094)"
     ]
    }
   ],
   "source": [
    "test_ar = ak.to_numpy(ak.flatten(abs(matched_electrons.eta)))\n",
    "test_ar[test_ar>2.5]"
   ]
  },
  {
   "cell_type": "code",
   "execution_count": null,
   "id": "8af32228",
   "metadata": {},
   "outputs": [],
   "source": []
  }
 ],
 "metadata": {
  "kernelspec": {
   "display_name": "coffeadev3",
   "language": "python",
   "name": "coffeadev3"
  },
  "language_info": {
   "codemirror_mode": {
    "name": "ipython",
    "version": 3
   },
   "file_extension": ".py",
   "mimetype": "text/x-python",
   "name": "python",
   "nbconvert_exporter": "python",
   "pygments_lexer": "ipython3",
   "version": "3.9.2"
  }
 },
 "nbformat": 4,
 "nbformat_minor": 5
}
