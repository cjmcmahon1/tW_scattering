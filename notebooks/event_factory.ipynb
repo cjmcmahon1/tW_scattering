{
 "cells": [
  {
   "cell_type": "markdown",
   "id": "510cac07",
   "metadata": {},
   "source": [
    "# NanoEventsFactory example\n",
    "\n",
    "Load a single file from x-cache (using redirector_ucsd) or the grid (using redirector_fnal), and play with the events.\n"
   ]
  },
  {
   "cell_type": "code",
   "execution_count": 1,
   "id": "a5a3dc8b",
   "metadata": {},
   "outputs": [],
   "source": [
    "from coffea.nanoevents import NanoEventsFactory, NanoAODSchema\n",
    "from coffea.analysis_tools import Weights, PackedSelection\n",
    "\n",
    "from Tools.config_helpers import redirector_fnal, redirector_ucsd\n",
    "from Tools.nano_mapping import make_fileset\n",
    "from Tools.helpers import get_samples\n",
    "\n",
    "import awkward as ak\n",
    "\n",
    "samples = get_samples()\n",
    "\n",
    "fileset = make_fileset(['TTW'], samples, redirector=redirector_ucsd, small=True) # changed top -> TTW\n",
    "\n",
    "# load a subset of events\n",
    "n_max = 500000\n",
    "events = NanoEventsFactory.from_root(\n",
    "    fileset[list(fileset.keys())[1]][0],\n",
    "    schemaclass = NanoAODSchema,\n",
    "    entry_stop = n_max).events()\n",
    "\n"
   ]
  },
  {
   "cell_type": "code",
   "execution_count": 3,
   "id": "96768b2c",
   "metadata": {},
   "outputs": [
    {
     "data": {
      "text/plain": [
       "'root://xcache-redirector.t2.ucsd.edu:2040//store/mc/RunIIAutumn18NanoAODv7/TTWJetsToLNu_TuneCP5_13TeV-amcatnloFXFX-madspin-pythia8/NANOAODSIM/Nano02Apr2020_102X_upgrade2018_realistic_v21_ext1-v1/60000/02232B20-7228-4348-84C7-72DAFDC2CEB7.root'"
      ]
     },
     "execution_count": 3,
     "metadata": {},
     "output_type": "execute_result"
    }
   ],
   "source": [
    "fileset[list(fileset.keys())[1]][0]"
   ]
  },
  {
   "cell_type": "code",
   "execution_count": 4,
   "id": "bb9f49bd",
   "metadata": {},
   "outputs": [
    {
     "data": {
      "text/plain": [
       "<Array [436885, 436871, ... 444644, 444664] type='5000 * uint64[parameters={\"__d...'>"
      ]
     },
     "execution_count": 4,
     "metadata": {},
     "output_type": "execute_result"
    }
   ],
   "source": [
    "events.event"
   ]
  },
  {
   "cell_type": "code",
   "execution_count": 5,
   "id": "d3881d9a",
   "metadata": {},
   "outputs": [],
   "source": [
    "ev = events[events.event==4590003]"
   ]
  },
  {
   "cell_type": "code",
   "execution_count": 6,
   "id": "9e352622",
   "metadata": {},
   "outputs": [
    {
     "data": {
      "text/html": [
       "<div>\n",
       "<style scoped>\n",
       "    .dataframe tbody tr th:only-of-type {\n",
       "        vertical-align: middle;\n",
       "    }\n",
       "\n",
       "    .dataframe tbody tr th {\n",
       "        vertical-align: top;\n",
       "    }\n",
       "\n",
       "    .dataframe thead th {\n",
       "        text-align: right;\n",
       "    }\n",
       "</style>\n",
       "<table border=\"1\" class=\"dataframe\">\n",
       "  <thead>\n",
       "    <tr style=\"text-align: right;\">\n",
       "      <th></th>\n",
       "      <th>MetUnclustEnUpDeltaX</th>\n",
       "      <th>MetUnclustEnUpDeltaY</th>\n",
       "      <th>covXX</th>\n",
       "      <th>covXY</th>\n",
       "      <th>covYY</th>\n",
       "      <th>fiducialGenPhi</th>\n",
       "      <th>fiducialGenPt</th>\n",
       "      <th>phi</th>\n",
       "      <th>pt</th>\n",
       "      <th>significance</th>\n",
       "      <th>sumEt</th>\n",
       "      <th>sumPtUnclustered</th>\n",
       "    </tr>\n",
       "    <tr>\n",
       "      <th>entry</th>\n",
       "      <th></th>\n",
       "      <th></th>\n",
       "      <th></th>\n",
       "      <th></th>\n",
       "      <th></th>\n",
       "      <th></th>\n",
       "      <th></th>\n",
       "      <th></th>\n",
       "      <th></th>\n",
       "      <th></th>\n",
       "      <th></th>\n",
       "      <th></th>\n",
       "    </tr>\n",
       "  </thead>\n",
       "  <tbody>\n",
       "  </tbody>\n",
       "</table>\n",
       "</div>"
      ],
      "text/plain": [
       "Empty DataFrame\n",
       "Columns: [MetUnclustEnUpDeltaX, MetUnclustEnUpDeltaY, covXX, covXY, covYY, fiducialGenPhi, fiducialGenPt, phi, pt, significance, sumEt, sumPtUnclustered]\n",
       "Index: []"
      ]
     },
     "execution_count": 6,
     "metadata": {},
     "output_type": "execute_result"
    }
   ],
   "source": [
    "ak.to_pandas(ev.MET)"
   ]
  },
  {
   "cell_type": "code",
   "execution_count": 2,
   "id": "3042db85",
   "metadata": {},
   "outputs": [
    {
     "name": "stdout",
     "output_type": "stream",
     "text": [
      "\n",
      "## Electron selection for WP tight ##\n",
      " - pt >= 15\n",
      " - abs(etaSC) <= 2.5\n",
      " - convVeto == 1\n",
      " - lostHits == 0\n",
      " - tightCharge == 2\n",
      " - abs(dxy) <= 0.05\n",
      " - abs(dz) <= 0.1\n",
      " - abs(sip3d) <= 4.0\n",
      " - tight electron MVA ID\n",
      " - custom multi isolation\n",
      " - trigger safe\n",
      " - custom ID and multi-isolation\n",
      "Found 111025 objects passing the selection\n",
      "\n",
      "## Muon selection for WP tight ##\n",
      " - pt >= 15\n",
      " - abs(eta) <= 2.4\n",
      " - mediumId == 1\n",
      " - looseId == 1\n",
      " - abs(dxy) <= 0.05\n",
      " - abs(dz) <= 0.05\n",
      " - abs(sip3d) <= 4\n",
      " - ptErrRel <= 0.2\n",
      " - custom multi isolation\n",
      " - custom multi-isolation\n",
      "Found 156742 objects passing the selection\n",
      "\n",
      "Took 51.573444843292236 seconds\n"
     ]
    }
   ],
   "source": [
    "import time\n",
    "\n",
    "from Tools.objects import Collections\n",
    "\n",
    "start_time = time.time()\n",
    "electrons = Collections(events, 'Electron', 'tight', verbose=1).get()\n",
    "muons = Collections(events, 'Muon', 'tight', verbose=1).get()\n",
    "\n",
    "\n",
    "delta_time = time.time()-start_time\n",
    "\n",
    "print (\"\\nTook %s seconds\"%delta_time)"
   ]
  },
  {
   "cell_type": "code",
   "execution_count": 7,
   "id": "01097654",
   "metadata": {},
   "outputs": [],
   "source": [
    "leptons = ak.concatenate([electrons,muons])"
   ]
  },
  {
   "cell_type": "code",
   "execution_count": 8,
   "id": "5ddd01a2",
   "metadata": {},
   "outputs": [
    {
     "data": {
      "text/plain": [
       "<Array [[-1, 1], [1, 1], ... [-1, 1], [-1, 1]] type='319 * union[var * int32[par...'>"
      ]
     },
     "execution_count": 8,
     "metadata": {},
     "output_type": "execute_result"
    }
   ],
   "source": [
    "leptons[ak.num(leptons)>1].charge"
   ]
  },
  {
   "cell_type": "code",
   "execution_count": 12,
   "id": "d5bd38c9",
   "metadata": {},
   "outputs": [
    {
     "data": {
      "text/plain": [
       "<Array [[1, 1], [1, 1], ... [1, 1], [1, 1]] type='165 * union[var * int32[parame...'>"
      ]
     },
     "execution_count": 12,
     "metadata": {},
     "output_type": "execute_result"
    }
   ],
   "source": [
    "leptons[((ak.sum(leptons.charge, axis=1)!=0) & (ak.num(leptons)>1))].charge"
   ]
  },
  {
   "cell_type": "code",
   "execution_count": 13,
   "id": "75c69b27",
   "metadata": {},
   "outputs": [
    {
     "data": {
      "text/plain": [
       "<Array [[-1, 1], [1, -1], ... [-1, 1], [-1, 1]] type='154 * union[var * int32[pa...'>"
      ]
     },
     "execution_count": 13,
     "metadata": {},
     "output_type": "execute_result"
    }
   ],
   "source": [
    "leptons[((ak.sum(leptons.charge, axis=1)==0) & (ak.num(leptons)>1))].charge"
   ]
  },
  {
   "cell_type": "code",
   "execution_count": 17,
   "id": "9ede2fbb",
   "metadata": {},
   "outputs": [
    {
     "data": {
      "text/plain": [
       "<Array [None, 58, None, ... 79.8, 18.2, None] type='10000 * ?float32'>"
      ]
     },
     "execution_count": 17,
     "metadata": {},
     "output_type": "execute_result"
    }
   ],
   "source": [
    "ak.max(leptons.pt, axis=1)"
   ]
  },
  {
   "cell_type": "code",
   "execution_count": 10,
   "id": "1b337968",
   "metadata": {},
   "outputs": [
    {
     "data": {
      "text/plain": [
       "<Array [436885, 436863, ... 444630, 444644] type='1790 * uint64[parameters={\"__d...'>"
      ]
     },
     "execution_count": 10,
     "metadata": {},
     "output_type": "execute_result"
    }
   ],
   "source": [
    "events[ak.num(muons, axis=1)>0].event"
   ]
  },
  {
   "cell_type": "code",
   "execution_count": 7,
   "id": "a26dccdf",
   "metadata": {},
   "outputs": [
    {
     "data": {
      "text/plain": [
       "['charge',\n",
       " 'cleanmask',\n",
       " 'dxy',\n",
       " 'dxyErr',\n",
       " 'dxybs',\n",
       " 'dz',\n",
       " 'dzErr',\n",
       " 'eta',\n",
       " 'fsrPhotonIdx',\n",
       " 'fsrPhotonIdxG',\n",
       " 'genPartFlav',\n",
       " 'genPartIdx',\n",
       " 'genPartIdxG',\n",
       " 'highPtId',\n",
       " 'highPurity',\n",
       " 'inTimeMuon',\n",
       " 'ip3d',\n",
       " 'isGlobal',\n",
       " 'isPFcand',\n",
       " 'isTracker',\n",
       " 'jetIdx',\n",
       " 'jetIdxG',\n",
       " 'jetPtRelv2',\n",
       " 'jetRelIso',\n",
       " 'looseId',\n",
       " 'mass',\n",
       " 'mediumId',\n",
       " 'mediumPromptId',\n",
       " 'miniIsoId',\n",
       " 'miniPFRelIso_all',\n",
       " 'miniPFRelIso_chg',\n",
       " 'multiIsoId',\n",
       " 'mvaId',\n",
       " 'mvaLowPt',\n",
       " 'mvaTTH',\n",
       " 'nStations',\n",
       " 'nTrackerLayers',\n",
       " 'pdgId',\n",
       " 'pfIsoId',\n",
       " 'pfRelIso03_all',\n",
       " 'pfRelIso03_chg',\n",
       " 'pfRelIso04_all',\n",
       " 'phi',\n",
       " 'pt',\n",
       " 'ptErr',\n",
       " 'segmentComp',\n",
       " 'sip3d',\n",
       " 'softId',\n",
       " 'softMva',\n",
       " 'softMvaId',\n",
       " 'tightCharge',\n",
       " 'tightId',\n",
       " 'tkIsoId',\n",
       " 'tkRelIso',\n",
       " 'triggerIdLoose',\n",
       " 'tunepRelPt',\n",
       " 'absMiniIso',\n",
       " 'ptErrRel',\n",
       " 'deepJet',\n",
       " 'jetRelIsoV2',\n",
       " 'conePt']"
      ]
     },
     "execution_count": 7,
     "metadata": {},
     "output_type": "execute_result"
    }
   ],
   "source": [
    "muons.fields"
   ]
  },
  {
   "cell_type": "code",
   "execution_count": 8,
   "id": "c85a3d9d",
   "metadata": {},
   "outputs": [
    {
     "data": {
      "text/html": [
       "<div>\n",
       "<style scoped>\n",
       "    .dataframe tbody tr th:only-of-type {\n",
       "        vertical-align: middle;\n",
       "    }\n",
       "\n",
       "    .dataframe tbody tr th {\n",
       "        vertical-align: top;\n",
       "    }\n",
       "\n",
       "    .dataframe thead th {\n",
       "        text-align: right;\n",
       "    }\n",
       "</style>\n",
       "<table border=\"1\" class=\"dataframe\">\n",
       "  <thead>\n",
       "    <tr style=\"text-align: right;\">\n",
       "      <th></th>\n",
       "      <th></th>\n",
       "      <th>pt</th>\n",
       "      <th>conePt</th>\n",
       "      <th>eta</th>\n",
       "      <th>phi</th>\n",
       "      <th>miniPFRelIso_all</th>\n",
       "      <th>deepJet</th>\n",
       "    </tr>\n",
       "    <tr>\n",
       "      <th>entry</th>\n",
       "      <th>subentry</th>\n",
       "      <th></th>\n",
       "      <th></th>\n",
       "      <th></th>\n",
       "      <th></th>\n",
       "      <th></th>\n",
       "      <th></th>\n",
       "    </tr>\n",
       "  </thead>\n",
       "  <tbody>\n",
       "    <tr>\n",
       "      <th>0</th>\n",
       "      <th>0</th>\n",
       "      <td>89.001289</td>\n",
       "      <td>91.74375</td>\n",
       "      <td>-1.041992</td>\n",
       "      <td>1.666748</td>\n",
       "      <td>0.0</td>\n",
       "      <td>0.006035</td>\n",
       "    </tr>\n",
       "  </tbody>\n",
       "</table>\n",
       "</div>"
      ],
      "text/plain": [
       "                       pt    conePt       eta       phi  miniPFRelIso_all  \\\n",
       "entry subentry                                                              \n",
       "0     0         89.001289  91.74375 -1.041992  1.666748               0.0   \n",
       "\n",
       "                 deepJet  \n",
       "entry subentry            \n",
       "0     0         0.006035  "
      ]
     },
     "execution_count": 8,
     "metadata": {},
     "output_type": "execute_result"
    }
   ],
   "source": [
    "fields_to_show = [\"pt\", \"conePt\", \"eta\", \"phi\", \"miniPFRelIso_all\", \"deepJet\"]\n",
    "\n",
    "ak.to_pandas(muons[events.event==4590009][fields_to_show])"
   ]
  },
  {
   "cell_type": "code",
   "execution_count": 9,
   "id": "504d29b8",
   "metadata": {},
   "outputs": [
    {
     "data": {
      "text/html": [
       "<div>\n",
       "<style scoped>\n",
       "    .dataframe tbody tr th:only-of-type {\n",
       "        vertical-align: middle;\n",
       "    }\n",
       "\n",
       "    .dataframe tbody tr th {\n",
       "        vertical-align: top;\n",
       "    }\n",
       "\n",
       "    .dataframe thead th {\n",
       "        text-align: right;\n",
       "    }\n",
       "</style>\n",
       "<table border=\"1\" class=\"dataframe\">\n",
       "  <thead>\n",
       "    <tr style=\"text-align: right;\">\n",
       "      <th></th>\n",
       "      <th></th>\n",
       "      <th>pt</th>\n",
       "      <th>conePt</th>\n",
       "      <th>eta</th>\n",
       "      <th>phi</th>\n",
       "      <th>miniPFRelIso_all</th>\n",
       "      <th>deepJet</th>\n",
       "    </tr>\n",
       "    <tr>\n",
       "      <th>entry</th>\n",
       "      <th>subentry</th>\n",
       "      <th></th>\n",
       "      <th></th>\n",
       "      <th></th>\n",
       "      <th></th>\n",
       "      <th></th>\n",
       "      <th></th>\n",
       "    </tr>\n",
       "  </thead>\n",
       "  <tbody>\n",
       "    <tr>\n",
       "      <th>0</th>\n",
       "      <th>0</th>\n",
       "      <td>89.001289</td>\n",
       "      <td>91.743750</td>\n",
       "      <td>-1.041992</td>\n",
       "      <td>1.666748</td>\n",
       "      <td>0.000000</td>\n",
       "      <td>0.006035</td>\n",
       "    </tr>\n",
       "    <tr>\n",
       "      <th>1</th>\n",
       "      <th>0</th>\n",
       "      <td>22.520767</td>\n",
       "      <td>23.400000</td>\n",
       "      <td>-0.732056</td>\n",
       "      <td>-2.039551</td>\n",
       "      <td>0.031200</td>\n",
       "      <td>0.014496</td>\n",
       "    </tr>\n",
       "    <tr>\n",
       "      <th>2</th>\n",
       "      <th>0</th>\n",
       "      <td>35.408287</td>\n",
       "      <td>38.896875</td>\n",
       "      <td>1.223389</td>\n",
       "      <td>2.832031</td>\n",
       "      <td>0.000000</td>\n",
       "      <td>0.022186</td>\n",
       "    </tr>\n",
       "    <tr>\n",
       "      <th>3</th>\n",
       "      <th>0</th>\n",
       "      <td>39.832733</td>\n",
       "      <td>42.187500</td>\n",
       "      <td>-1.335205</td>\n",
       "      <td>-1.277832</td>\n",
       "      <td>0.007453</td>\n",
       "      <td>0.005619</td>\n",
       "    </tr>\n",
       "    <tr>\n",
       "      <th>4</th>\n",
       "      <th>0</th>\n",
       "      <td>97.141785</td>\n",
       "      <td>99.843750</td>\n",
       "      <td>-0.975586</td>\n",
       "      <td>-2.340820</td>\n",
       "      <td>0.000000</td>\n",
       "      <td>0.006428</td>\n",
       "    </tr>\n",
       "    <tr>\n",
       "      <th>...</th>\n",
       "      <th>...</th>\n",
       "      <td>...</td>\n",
       "      <td>...</td>\n",
       "      <td>...</td>\n",
       "      <td>...</td>\n",
       "      <td>...</td>\n",
       "      <td>...</td>\n",
       "    </tr>\n",
       "    <tr>\n",
       "      <th>2285</th>\n",
       "      <th>0</th>\n",
       "      <td>34.735882</td>\n",
       "      <td>35.718750</td>\n",
       "      <td>1.778320</td>\n",
       "      <td>3.064941</td>\n",
       "      <td>0.000000</td>\n",
       "      <td>0.008408</td>\n",
       "    </tr>\n",
       "    <tr>\n",
       "      <th>2286</th>\n",
       "      <th>0</th>\n",
       "      <td>81.104309</td>\n",
       "      <td>81.000000</td>\n",
       "      <td>0.807251</td>\n",
       "      <td>0.137268</td>\n",
       "      <td>0.000000</td>\n",
       "      <td>0.004791</td>\n",
       "    </tr>\n",
       "    <tr>\n",
       "      <th>2287</th>\n",
       "      <th>0</th>\n",
       "      <td>25.945396</td>\n",
       "      <td>25.101562</td>\n",
       "      <td>-0.316895</td>\n",
       "      <td>0.740234</td>\n",
       "      <td>0.000000</td>\n",
       "      <td>0.013512</td>\n",
       "    </tr>\n",
       "    <tr>\n",
       "      <th>2288</th>\n",
       "      <th>0</th>\n",
       "      <td>33.870148</td>\n",
       "      <td>37.096875</td>\n",
       "      <td>0.297119</td>\n",
       "      <td>-2.192871</td>\n",
       "      <td>0.000000</td>\n",
       "      <td>0.182861</td>\n",
       "    </tr>\n",
       "    <tr>\n",
       "      <th>2289</th>\n",
       "      <th>0</th>\n",
       "      <td>59.036285</td>\n",
       "      <td>63.618750</td>\n",
       "      <td>-0.131073</td>\n",
       "      <td>-0.800415</td>\n",
       "      <td>0.000000</td>\n",
       "      <td>0.006271</td>\n",
       "    </tr>\n",
       "  </tbody>\n",
       "</table>\n",
       "<p>2622 rows × 6 columns</p>\n",
       "</div>"
      ],
      "text/plain": [
       "                       pt     conePt       eta       phi  miniPFRelIso_all  \\\n",
       "entry subentry                                                               \n",
       "0     0         89.001289  91.743750 -1.041992  1.666748          0.000000   \n",
       "1     0         22.520767  23.400000 -0.732056 -2.039551          0.031200   \n",
       "2     0         35.408287  38.896875  1.223389  2.832031          0.000000   \n",
       "3     0         39.832733  42.187500 -1.335205 -1.277832          0.007453   \n",
       "4     0         97.141785  99.843750 -0.975586 -2.340820          0.000000   \n",
       "...                   ...        ...       ...       ...               ...   \n",
       "2285  0         34.735882  35.718750  1.778320  3.064941          0.000000   \n",
       "2286  0         81.104309  81.000000  0.807251  0.137268          0.000000   \n",
       "2287  0         25.945396  25.101562 -0.316895  0.740234          0.000000   \n",
       "2288  0         33.870148  37.096875  0.297119 -2.192871          0.000000   \n",
       "2289  0         59.036285  63.618750 -0.131073 -0.800415          0.000000   \n",
       "\n",
       "                 deepJet  \n",
       "entry subentry            \n",
       "0     0         0.006035  \n",
       "1     0         0.014496  \n",
       "2     0         0.022186  \n",
       "3     0         0.005619  \n",
       "4     0         0.006428  \n",
       "...                  ...  \n",
       "2285  0         0.008408  \n",
       "2286  0         0.004791  \n",
       "2287  0         0.013512  \n",
       "2288  0         0.182861  \n",
       "2289  0         0.006271  \n",
       "\n",
       "[2622 rows x 6 columns]"
      ]
     },
     "execution_count": 9,
     "metadata": {},
     "output_type": "execute_result"
    }
   ],
   "source": [
    "ak.to_pandas(muons[ak.num(muons)>0][fields_to_show])"
   ]
  },
  {
   "cell_type": "markdown",
   "id": "7da1560e",
   "metadata": {},
   "source": [
    "You can do anything that you're usually doing inside the processor here as well, so this is very useful for debugging"
   ]
  },
  {
   "cell_type": "code",
   "execution_count": 10,
   "id": "e70d9342",
   "metadata": {},
   "outputs": [
    {
     "data": {
      "text/plain": [
       "1776"
      ]
     },
     "execution_count": 10,
     "metadata": {},
     "output_type": "execute_result"
    }
   ],
   "source": [
    "matched_electrons = electrons[electrons.genPartIdx>=0]\n",
    "sum(ak.num(matched_electrons, axis=1))"
   ]
  },
  {
   "cell_type": "code",
   "execution_count": 11,
   "id": "8af32228",
   "metadata": {},
   "outputs": [
    {
     "name": "stdout",
     "output_type": "stream",
     "text": [
      "\n",
      "## Muon selection for WP tight ##\n",
      " - pt >= 15\n",
      " - abs(eta) <= 2.4\n",
      " - mediumId == 1\n",
      " - looseId == 1\n",
      " - abs(dxy) <= 0.05\n",
      " - abs(dz) <= 0.05\n",
      " - abs(sip3d) <= 4\n",
      " - ptErrRel <= 0.2\n",
      " - custom multi isolation\n",
      " - custom multi-isolation\n",
      "Found 652 objects passing the selection\n"
     ]
    },
    {
     "data": {
      "text/plain": [
       "<Array [29552, 33557, ... 12024433, 12035747] type='651 * uint64[parameters={\"__...'>"
      ]
     },
     "execution_count": 11,
     "metadata": {},
     "output_type": "execute_result"
    }
   ],
   "source": [
    "f_in = '/store/mc/RunIIAutumn18NanoAODv7/QCD_Pt-120to170_MuEnrichedPt5_TuneCP5_13TeV_pythia8/NANOAODSIM/Nano02Apr2020_102X_upgrade2018_realistic_v21-v1/70000/DE335891-829A-B943-99BE-E5A179F5F3EB.root'\n",
    "\n",
    "events = NanoEventsFactory.from_root(\n",
    "    redirector_ucsd + f_in,\n",
    "    schemaclass = NanoAODSchema,\n",
    "    entry_stop = 9999999).events()\n",
    "\n",
    "muons = Collections(events, 'Muon', 'tight', verbose=1).get()\n",
    "\n",
    "single_mu_ev = events[ak.num(muons)>0]\n",
    "\n",
    "event_list_tight = single_mu_ev.event\n",
    "event_list_tight"
   ]
  },
  {
   "cell_type": "code",
   "execution_count": 12,
   "id": "56371d7d",
   "metadata": {},
   "outputs": [],
   "source": [
    "import numpy as np\n",
    "event_selector = (np.zeros_like(events.MET.pt) == 1)"
   ]
  },
  {
   "cell_type": "code",
   "execution_count": 13,
   "id": "d087ef95",
   "metadata": {},
   "outputs": [],
   "source": [
    "my_events = [29552, 12024433]"
   ]
  },
  {
   "cell_type": "code",
   "execution_count": 14,
   "id": "394b8bd2",
   "metadata": {},
   "outputs": [],
   "source": [
    "for ev in my_events:\n",
    "    event_selector = (event_selector | (events.event == ev))"
   ]
  },
  {
   "cell_type": "code",
   "execution_count": 28,
   "id": "d5ca72d1",
   "metadata": {},
   "outputs": [
    {
     "data": {
      "text/html": [
       "<div>\n",
       "<style scoped>\n",
       "    .dataframe tbody tr th:only-of-type {\n",
       "        vertical-align: middle;\n",
       "    }\n",
       "\n",
       "    .dataframe tbody tr th {\n",
       "        vertical-align: top;\n",
       "    }\n",
       "\n",
       "    .dataframe thead th {\n",
       "        text-align: right;\n",
       "    }\n",
       "</style>\n",
       "<table border=\"1\" class=\"dataframe\">\n",
       "  <thead>\n",
       "    <tr style=\"text-align: right;\">\n",
       "      <th></th>\n",
       "      <th>pt</th>\n",
       "      <th>conePt</th>\n",
       "      <th>eta</th>\n",
       "      <th>phi</th>\n",
       "      <th>miniPFRelIso_all</th>\n",
       "      <th>deepJet</th>\n",
       "    </tr>\n",
       "    <tr>\n",
       "      <th>entry</th>\n",
       "      <th></th>\n",
       "      <th></th>\n",
       "      <th></th>\n",
       "      <th></th>\n",
       "      <th></th>\n",
       "      <th></th>\n",
       "    </tr>\n",
       "  </thead>\n",
       "  <tbody>\n",
       "    <tr>\n",
       "      <th>0</th>\n",
       "      <td>22.196507</td>\n",
       "      <td>73.3500</td>\n",
       "      <td>-0.518066</td>\n",
       "      <td>-0.862671</td>\n",
       "      <td>0.101121</td>\n",
       "      <td>0.974121</td>\n",
       "    </tr>\n",
       "    <tr>\n",
       "      <th>1</th>\n",
       "      <td>29.695017</td>\n",
       "      <td>93.2625</td>\n",
       "      <td>-1.611572</td>\n",
       "      <td>-1.919434</td>\n",
       "      <td>0.100588</td>\n",
       "      <td>0.124390</td>\n",
       "    </tr>\n",
       "  </tbody>\n",
       "</table>\n",
       "</div>"
      ],
      "text/plain": [
       "              pt   conePt       eta       phi  miniPFRelIso_all   deepJet\n",
       "entry                                                                    \n",
       "0      22.196507  73.3500 -0.518066 -0.862671          0.101121  0.974121\n",
       "1      29.695017  93.2625 -1.611572 -1.919434          0.100588  0.124390"
      ]
     },
     "execution_count": 28,
     "metadata": {},
     "output_type": "execute_result"
    }
   ],
   "source": [
    "mu_df = ak.to_pandas(ak.flatten(muons[event_selector][fields_to_show]))\n",
    "mu_df"
   ]
  },
  {
   "cell_type": "code",
   "execution_count": 35,
   "id": "6339170d",
   "metadata": {},
   "outputs": [
    {
     "data": {
      "text/html": [
       "<div>\n",
       "<style scoped>\n",
       "    .dataframe tbody tr th:only-of-type {\n",
       "        vertical-align: middle;\n",
       "    }\n",
       "\n",
       "    .dataframe tbody tr th {\n",
       "        vertical-align: top;\n",
       "    }\n",
       "\n",
       "    .dataframe thead th {\n",
       "        text-align: right;\n",
       "    }\n",
       "</style>\n",
       "<table border=\"1\" class=\"dataframe\">\n",
       "  <thead>\n",
       "    <tr style=\"text-align: right;\">\n",
       "      <th></th>\n",
       "      <th>MetUnclustEnUpDeltaX</th>\n",
       "      <th>MetUnclustEnUpDeltaY</th>\n",
       "      <th>covXX</th>\n",
       "      <th>covXY</th>\n",
       "      <th>covYY</th>\n",
       "      <th>fiducialGenPhi</th>\n",
       "      <th>fiducialGenPt</th>\n",
       "      <th>phi</th>\n",
       "      <th>pt</th>\n",
       "      <th>significance</th>\n",
       "      <th>sumEt</th>\n",
       "      <th>sumPtUnclustered</th>\n",
       "    </tr>\n",
       "    <tr>\n",
       "      <th>entry</th>\n",
       "      <th></th>\n",
       "      <th></th>\n",
       "      <th></th>\n",
       "      <th></th>\n",
       "      <th></th>\n",
       "      <th></th>\n",
       "      <th></th>\n",
       "      <th></th>\n",
       "      <th></th>\n",
       "      <th></th>\n",
       "      <th></th>\n",
       "      <th></th>\n",
       "    </tr>\n",
       "  </thead>\n",
       "  <tbody>\n",
       "    <tr>\n",
       "      <th>0</th>\n",
       "      <td>-7.730469</td>\n",
       "      <td>-7.636719</td>\n",
       "      <td>860.0</td>\n",
       "      <td>-62.375000</td>\n",
       "      <td>1500.0</td>\n",
       "      <td>-1.039062</td>\n",
       "      <td>9.304688</td>\n",
       "      <td>0.413147</td>\n",
       "      <td>49.778206</td>\n",
       "      <td>2.777344</td>\n",
       "      <td>2454.0</td>\n",
       "      <td>1626.0</td>\n",
       "    </tr>\n",
       "    <tr>\n",
       "      <th>1</th>\n",
       "      <td>-5.054688</td>\n",
       "      <td>-2.496094</td>\n",
       "      <td>514.0</td>\n",
       "      <td>-5.484375</td>\n",
       "      <td>390.0</td>\n",
       "      <td>-1.850586</td>\n",
       "      <td>20.265625</td>\n",
       "      <td>-1.706299</td>\n",
       "      <td>52.056957</td>\n",
       "      <td>6.945312</td>\n",
       "      <td>1174.0</td>\n",
       "      <td>1016.0</td>\n",
       "    </tr>\n",
       "  </tbody>\n",
       "</table>\n",
       "</div>"
      ],
      "text/plain": [
       "       MetUnclustEnUpDeltaX  MetUnclustEnUpDeltaY  covXX      covXY   covYY  \\\n",
       "entry                                                                         \n",
       "0                 -7.730469             -7.636719  860.0 -62.375000  1500.0   \n",
       "1                 -5.054688             -2.496094  514.0  -5.484375   390.0   \n",
       "\n",
       "       fiducialGenPhi  fiducialGenPt       phi         pt  significance  \\\n",
       "entry                                                                     \n",
       "0           -1.039062       9.304688  0.413147  49.778206      2.777344   \n",
       "1           -1.850586      20.265625 -1.706299  52.056957      6.945312   \n",
       "\n",
       "        sumEt  sumPtUnclustered  \n",
       "entry                            \n",
       "0      2454.0            1626.0  \n",
       "1      1174.0            1016.0  "
      ]
     },
     "execution_count": 35,
     "metadata": {},
     "output_type": "execute_result"
    }
   ],
   "source": [
    "ev_df = ak.to_pandas(events.MET[event_selector])\n",
    "ev_df"
   ]
  },
  {
   "cell_type": "code",
   "execution_count": 36,
   "id": "570198d2",
   "metadata": {},
   "outputs": [
    {
     "data": {
      "text/html": [
       "<div>\n",
       "<style scoped>\n",
       "    .dataframe tbody tr th:only-of-type {\n",
       "        vertical-align: middle;\n",
       "    }\n",
       "\n",
       "    .dataframe tbody tr th {\n",
       "        vertical-align: top;\n",
       "    }\n",
       "\n",
       "    .dataframe thead th {\n",
       "        text-align: right;\n",
       "    }\n",
       "</style>\n",
       "<table border=\"1\" class=\"dataframe\">\n",
       "  <thead>\n",
       "    <tr style=\"text-align: right;\">\n",
       "      <th></th>\n",
       "      <th>pt</th>\n",
       "      <th>conePt</th>\n",
       "      <th>eta</th>\n",
       "      <th>phi</th>\n",
       "      <th>miniPFRelIso_all</th>\n",
       "      <th>deepJet</th>\n",
       "      <th>MetUnclustEnUpDeltaX</th>\n",
       "      <th>MetUnclustEnUpDeltaY</th>\n",
       "      <th>covXX</th>\n",
       "      <th>covXY</th>\n",
       "      <th>covYY</th>\n",
       "      <th>fiducialGenPhi</th>\n",
       "      <th>fiducialGenPt</th>\n",
       "      <th>phi</th>\n",
       "      <th>pt</th>\n",
       "      <th>significance</th>\n",
       "      <th>sumEt</th>\n",
       "      <th>sumPtUnclustered</th>\n",
       "    </tr>\n",
       "    <tr>\n",
       "      <th>entry</th>\n",
       "      <th></th>\n",
       "      <th></th>\n",
       "      <th></th>\n",
       "      <th></th>\n",
       "      <th></th>\n",
       "      <th></th>\n",
       "      <th></th>\n",
       "      <th></th>\n",
       "      <th></th>\n",
       "      <th></th>\n",
       "      <th></th>\n",
       "      <th></th>\n",
       "      <th></th>\n",
       "      <th></th>\n",
       "      <th></th>\n",
       "      <th></th>\n",
       "      <th></th>\n",
       "      <th></th>\n",
       "    </tr>\n",
       "  </thead>\n",
       "  <tbody>\n",
       "    <tr>\n",
       "      <th>0</th>\n",
       "      <td>22.196507</td>\n",
       "      <td>73.3500</td>\n",
       "      <td>-0.518066</td>\n",
       "      <td>-0.862671</td>\n",
       "      <td>0.101121</td>\n",
       "      <td>0.974121</td>\n",
       "      <td>-7.730469</td>\n",
       "      <td>-7.636719</td>\n",
       "      <td>860.0</td>\n",
       "      <td>-62.375000</td>\n",
       "      <td>1500.0</td>\n",
       "      <td>-1.039062</td>\n",
       "      <td>9.304688</td>\n",
       "      <td>0.413147</td>\n",
       "      <td>49.778206</td>\n",
       "      <td>2.777344</td>\n",
       "      <td>2454.0</td>\n",
       "      <td>1626.0</td>\n",
       "    </tr>\n",
       "    <tr>\n",
       "      <th>1</th>\n",
       "      <td>29.695017</td>\n",
       "      <td>93.2625</td>\n",
       "      <td>-1.611572</td>\n",
       "      <td>-1.919434</td>\n",
       "      <td>0.100588</td>\n",
       "      <td>0.124390</td>\n",
       "      <td>-5.054688</td>\n",
       "      <td>-2.496094</td>\n",
       "      <td>514.0</td>\n",
       "      <td>-5.484375</td>\n",
       "      <td>390.0</td>\n",
       "      <td>-1.850586</td>\n",
       "      <td>20.265625</td>\n",
       "      <td>-1.706299</td>\n",
       "      <td>52.056957</td>\n",
       "      <td>6.945312</td>\n",
       "      <td>1174.0</td>\n",
       "      <td>1016.0</td>\n",
       "    </tr>\n",
       "  </tbody>\n",
       "</table>\n",
       "</div>"
      ],
      "text/plain": [
       "              pt   conePt       eta       phi  miniPFRelIso_all   deepJet  \\\n",
       "entry                                                                       \n",
       "0      22.196507  73.3500 -0.518066 -0.862671          0.101121  0.974121   \n",
       "1      29.695017  93.2625 -1.611572 -1.919434          0.100588  0.124390   \n",
       "\n",
       "       MetUnclustEnUpDeltaX  MetUnclustEnUpDeltaY  covXX      covXY   covYY  \\\n",
       "entry                                                                         \n",
       "0                 -7.730469             -7.636719  860.0 -62.375000  1500.0   \n",
       "1                 -5.054688             -2.496094  514.0  -5.484375   390.0   \n",
       "\n",
       "       fiducialGenPhi  fiducialGenPt       phi         pt  significance  \\\n",
       "entry                                                                     \n",
       "0           -1.039062       9.304688  0.413147  49.778206      2.777344   \n",
       "1           -1.850586      20.265625 -1.706299  52.056957      6.945312   \n",
       "\n",
       "        sumEt  sumPtUnclustered  \n",
       "entry                            \n",
       "0      2454.0            1626.0  \n",
       "1      1174.0            1016.0  "
      ]
     },
     "execution_count": 36,
     "metadata": {},
     "output_type": "execute_result"
    }
   ],
   "source": [
    "import pandas as pd\n",
    "pd.concat([mu_df, ev_df], axis=1, )"
   ]
  },
  {
   "cell_type": "markdown",
   "id": "f0942412",
   "metadata": {},
   "source": [
    "## Some charge flip work"
   ]
  },
  {
   "cell_type": "code",
   "execution_count": 18,
   "id": "3a867434",
   "metadata": {},
   "outputs": [
    {
     "name": "stdout",
     "output_type": "stream",
     "text": [
      "--2021-05-18 11:39:22--  http://uaf-8.t2.ucsd.edu/~ewallace/chargeflipfull2016.pkl.gz\r\n",
      "Resolving uaf-8.t2.ucsd.edu (uaf-8.t2.ucsd.edu)... 169.228.130.7\r\n",
      "Connecting to uaf-8.t2.ucsd.edu (uaf-8.t2.ucsd.edu)|169.228.130.7|:80... connected.\r\n",
      "HTTP request sent, awaiting response... 200 OK\r\n",
      "Length: 951 [application/x-gzip]\r\n",
      "Saving to: ‘chargeflipfull2016.pkl.gz’\r\n",
      "\r\n",
      "\r",
      " 0% [                                       ] 0           --.-K/s              \r",
      "100%[======================================>] 951         --.-K/s   in 0s      \r\n",
      "\r\n",
      "2021-05-18 11:39:22 (65.2 MB/s) - ‘chargeflipfull2016.pkl.gz’ saved [951/951]\r\n",
      "\r\n"
     ]
    }
   ],
   "source": [
    "!wget http://uaf-8.t2.ucsd.edu/~ewallace/chargeflipfull2016.pkl.gz"
   ]
  },
  {
   "cell_type": "code",
   "execution_count": 19,
   "id": "33dbd6c6",
   "metadata": {},
   "outputs": [],
   "source": [
    "from Tools.helpers import yahist_2D_lookup\n",
    "import gzip\n",
    "import pickle\n",
    " \n",
    "class charge_flip:\n",
    "    def __init__(self, path):\n",
    "        self.path = path\n",
    "        with gzip.open(self.path) as fin:\n",
    "            self.ratio= pickle.load(fin)\n",
    "    \n",
    "    def flip_ratio(self, lepton1, lepton2):\n",
    "        \"\"\"takes a dilepton event and weights it based on the \n",
    "        odds that one of the leptons has a charge flip\"\"\"\n",
    "\n",
    "        flip1 = yahist_2D_lookup(self.ratio, lepton1.pt, abs(lepton1.eta))\n",
    "        flip2 = yahist_2D_lookup(self.ratio, lepton2.pt, abs(lepton2.eta))\n",
    "\n",
    "        flip_rate1 = (ak.prod(flip1, axis = 1) * ak.prod(1/(1-flip1), axis = 1) * ak.prod(1-flip2/(1-flip2), axis = 1)) + (ak.prod(flip2, axis = 1) * ak.prod(1/(1-flip2), axis = 1) * ak.prod(1-flip1/(1-flip1), axis = 1))\n",
    "\n",
    "        return flip_rate1\n",
    "    \n",
    "    def flip_weight(self, electron):\n",
    "\n",
    "        f_1 = yahist_2D_lookup(self.ratio, electron.pt[:,0:1], abs(electron.eta[:,0:1]))\n",
    "        f_2 = yahist_2D_lookup(self.ratio, electron.pt[:,1:2], abs(electron.eta[:,1:2]))\n",
    "\n",
    "        # I'm using ak.prod and ak.sum to replace empty arrays by 1 and 0, respectively\n",
    "        weight = ak.sum(f_1/(1-f_1), axis=1)*ak.prod(1-f_2/(1-f_2), axis=1) + ak.sum(f_2/(1-f_2), axis=1)*ak.prod(1-f_1/(1-f_1), axis=1)\n",
    "\n",
    "        return weight"
   ]
  },
  {
   "cell_type": "code",
   "execution_count": 20,
   "id": "e28bd316",
   "metadata": {},
   "outputs": [
    {
     "ename": "ModuleNotFoundError",
     "evalue": "No module named 'yahist'",
     "output_type": "error",
     "traceback": [
      "\u001b[0;31m---------------------------------------------------------------------------\u001b[0m",
      "\u001b[0;31mModuleNotFoundError\u001b[0m                       Traceback (most recent call last)",
      "\u001b[0;32m<ipython-input-20-75ae3055b308>\u001b[0m in \u001b[0;36m<module>\u001b[0;34m\u001b[0m\n\u001b[0;32m----> 1\u001b[0;31m \u001b[0mcf\u001b[0m \u001b[0;34m=\u001b[0m \u001b[0mcharge_flip\u001b[0m\u001b[0;34m(\u001b[0m\u001b[0;34m'chargeflipfull2016.pkl.gz'\u001b[0m\u001b[0;34m)\u001b[0m\u001b[0;34m\u001b[0m\u001b[0;34m\u001b[0m\u001b[0m\n\u001b[0m",
      "\u001b[0;32m<ipython-input-19-490fb6f4ea18>\u001b[0m in \u001b[0;36m__init__\u001b[0;34m(self, path)\u001b[0m\n\u001b[1;32m      7\u001b[0m         \u001b[0mself\u001b[0m\u001b[0;34m.\u001b[0m\u001b[0mpath\u001b[0m \u001b[0;34m=\u001b[0m \u001b[0mpath\u001b[0m\u001b[0;34m\u001b[0m\u001b[0;34m\u001b[0m\u001b[0m\n\u001b[1;32m      8\u001b[0m         \u001b[0;32mwith\u001b[0m \u001b[0mgzip\u001b[0m\u001b[0;34m.\u001b[0m\u001b[0mopen\u001b[0m\u001b[0;34m(\u001b[0m\u001b[0mself\u001b[0m\u001b[0;34m.\u001b[0m\u001b[0mpath\u001b[0m\u001b[0;34m)\u001b[0m \u001b[0;32mas\u001b[0m \u001b[0mfin\u001b[0m\u001b[0;34m:\u001b[0m\u001b[0;34m\u001b[0m\u001b[0;34m\u001b[0m\u001b[0m\n\u001b[0;32m----> 9\u001b[0;31m             \u001b[0mself\u001b[0m\u001b[0;34m.\u001b[0m\u001b[0mratio\u001b[0m\u001b[0;34m=\u001b[0m \u001b[0mpickle\u001b[0m\u001b[0;34m.\u001b[0m\u001b[0mload\u001b[0m\u001b[0;34m(\u001b[0m\u001b[0mfin\u001b[0m\u001b[0;34m)\u001b[0m\u001b[0;34m\u001b[0m\u001b[0;34m\u001b[0m\u001b[0m\n\u001b[0m\u001b[1;32m     10\u001b[0m \u001b[0;34m\u001b[0m\u001b[0m\n\u001b[1;32m     11\u001b[0m     \u001b[0;32mdef\u001b[0m \u001b[0mflip_ratio\u001b[0m\u001b[0;34m(\u001b[0m\u001b[0mself\u001b[0m\u001b[0;34m,\u001b[0m \u001b[0mlepton1\u001b[0m\u001b[0;34m,\u001b[0m \u001b[0mlepton2\u001b[0m\u001b[0;34m)\u001b[0m\u001b[0;34m:\u001b[0m\u001b[0;34m\u001b[0m\u001b[0;34m\u001b[0m\u001b[0m\n",
      "\u001b[0;31mModuleNotFoundError\u001b[0m: No module named 'yahist'"
     ]
    }
   ],
   "source": [
    "cf = charge_flip('chargeflipfull2016.pkl.gz')"
   ]
  },
  {
   "cell_type": "code",
   "execution_count": 61,
   "id": "ef6a098c",
   "metadata": {},
   "outputs": [
    {
     "data": {
      "text/plain": [
       "<Array [[], [24], [], [24, ... [], [24], []] type='382431 * var * ?int32[paramet...'>"
      ]
     },
     "execution_count": 61,
     "metadata": {},
     "output_type": "execute_result"
    }
   ],
   "source": [
    "electrons.matched_gen.parent.pdgId"
   ]
  },
  {
   "cell_type": "code",
   "execution_count": 62,
   "id": "4ff64107",
   "metadata": {},
   "outputs": [],
   "source": [
    "from Tools.gen import *"
   ]
  },
  {
   "cell_type": "code",
   "execution_count": 5,
   "id": "60a9bb32",
   "metadata": {},
   "outputs": [],
   "source": [
    "import numpy as np\n",
    "electrons = electrons[electrons.genPartIdx>=0]\n",
    "\n",
    "ele = electrons[((ak.num(electrons,axis=1)>0))]\n",
    "\n",
    "not_W_or_tau = ((np.abs(find_first_parent(ele.matched_gen))!=24) & (np.abs(find_first_parent(ele.matched_gen))!=15))\n",
    "not_W_or_tau = ((np.abs(find_first_parent(ele.matched_gen))!=24) & (np.abs(find_first_parent(ele.matched_gen))!=15))"
   ]
  },
  {
   "cell_type": "code",
   "execution_count": 63,
   "id": "bfacd0d0",
   "metadata": {},
   "outputs": [
    {
     "data": {
      "text/plain": [
       "<ElectronArray [Electron, Electron, ... Electron] type='1030 * ?electron'>"
      ]
     },
     "execution_count": 63,
     "metadata": {},
     "output_type": "execute_result"
    }
   ],
   "source": [
    "ak.flatten(ele[not_W_or_tau])"
   ]
  },
  {
   "cell_type": "code",
   "execution_count": 64,
   "id": "2cadabd7",
   "metadata": {},
   "outputs": [
    {
     "data": {
      "text/plain": [
       "<Array [2, 1, -2, -1, 2, ... 21, 2, 2, -1, 1] type='1030 * ?int64'>"
      ]
     },
     "execution_count": 64,
     "metadata": {},
     "output_type": "execute_result"
    }
   ],
   "source": [
    "find_first_parent(ak.flatten(ele[not_W_or_tau].matched_gen))"
   ]
  },
  {
   "cell_type": "code",
   "execution_count": 69,
   "id": "e0d41a2a",
   "metadata": {},
   "outputs": [],
   "source": [
    "potential_flip = (abs(find_first_parent(ele.matched_gen)) == 21)"
   ]
  },
  {
   "cell_type": "code",
   "execution_count": 70,
   "id": "8d697bdf",
   "metadata": {},
   "outputs": [
    {
     "data": {
      "text/plain": [
       "<ElectronArray [Electron, Electron, ... None, Electron] type='162 * ?electron'>"
      ]
     },
     "execution_count": 70,
     "metadata": {},
     "output_type": "execute_result"
    }
   ],
   "source": [
    "ak.flatten(ele[potential_flip])"
   ]
  },
  {
   "cell_type": "code",
   "execution_count": 67,
   "id": "8a434c79",
   "metadata": {},
   "outputs": [
    {
     "data": {
      "text/plain": [
       "<ElectronArray [[], [Electron], ... [Electron], []] type='382431 * var * electron'>"
      ]
     },
     "execution_count": 67,
     "metadata": {},
     "output_type": "execute_result"
    }
   ],
   "source": [
    "electrons"
   ]
  },
  {
   "cell_type": "code",
   "execution_count": 71,
   "id": "559701d6",
   "metadata": {},
   "outputs": [
    {
     "data": {
      "text/plain": [
       "0.000562192918461108"
      ]
     },
     "execution_count": 71,
     "metadata": {},
     "output_type": "execute_result"
    }
   ],
   "source": [
    "(162+53)/382431"
   ]
  },
  {
   "cell_type": "code",
   "execution_count": 1,
   "id": "2fafc798",
   "metadata": {},
   "outputs": [],
   "source": [
    "\n",
    "from coffea.nanoevents import NanoEventsFactory, NanoAODSchema\n",
    "from coffea.analysis_tools import Weights, PackedSelection\n",
    "\n",
    "from Tools.config_helpers import redirector_fnal, redirector_ucsd\n",
    "from Tools.nano_mapping import make_fileset\n",
    "from Tools.helpers import get_samples\n",
    "\n",
    "import awkward as ak\n",
    "\n",
    "samples = get_samples()\n",
    "\n",
    "fileset = make_fileset(['top'], samples, redirector=redirector_ucsd, small=True) # changed top -> TTW\n",
    "\n",
    "# load a subset of events\n",
    "n_max = 500000\n",
    "events = NanoEventsFactory.from_root(\n",
    "    fileset[list(fileset.keys())[0]][0],\n",
    "    schemaclass = NanoAODSchema,\n",
    "    #entry_stop = n_max,\n",
    ").events()\n",
    "\n",
    "from Tools.objects import Collections\n",
    "from Tools.gen import *\n",
    "\n",
    "#electrons = Collections(events, 'Electron', 'tight', verbose=1).get()\n",
    "#electrons = electrons[electrons.genPartIdx>=0]\n",
    "#ele = electrons[((ak.num(electrons,axis=1)==2))]\n",
    "\n",
    "#SM_particles = \n",
    "#charge_list = \n",
    "def get_charge_parent(particle):\n",
    "    parent = find_first_parent(particle)\n",
    "    out_charge = ak.zeros_like(parent)\n",
    "    charge_pairs = [(11,-1), (13,-1), (24, 1)]\n",
    "    for pdg, charge in charge_pairs:\n",
    "        out_charge = (parent==pdg)*ak.ones_like(parent)*(charge) + (~(parent==pdg))*out_charge\n",
    "    return out_charge\n",
    "\n",
    "\n",
    "#get_charge_parent(ele.matched_gen)"
   ]
  },
  {
   "cell_type": "code",
   "execution_count": 9,
   "id": "cba757f4",
   "metadata": {},
   "outputs": [
    {
     "data": {
      "text/plain": [
       "'root://xcache-redirector.t2.ucsd.edu:2042//store/mc/RunIIAutumn18NanoAODv7/TTTo2L2Nu_TuneCP5_13TeV-powheg-pythia8/NANOAODSIM/Nano02Apr2020_102X_upgrade2018_realistic_v21-v1/60000/022107FA-F567-1B44-B139-A18ADC996FCF.root'"
      ]
     },
     "execution_count": 9,
     "metadata": {},
     "output_type": "execute_result"
    }
   ],
   "source": [
    "fileset[list(fileset.keys())[0]][0]"
   ]
  },
  {
   "cell_type": "code",
   "execution_count": 11,
   "id": "912a24ab",
   "metadata": {},
   "outputs": [
    {
     "name": "stdout",
     "output_type": "stream",
     "text": [
      "\n",
      "## Electron selection for WP tight ##\n",
      " - pt >= 15\n",
      " - abs(etaSC) <= 2.5\n",
      " - convVeto == 1\n",
      " - lostHits == 0\n",
      " - tightCharge == 2\n",
      " - abs(dxy) <= 0.05\n",
      " - abs(dz) <= 0.1\n",
      " - abs(sip3d) <= 4.0\n",
      " - tight electron MVA ID\n",
      " - custom multi isolation\n",
      " - trigger safe\n",
      " - custom ID and multi-isolation\n",
      "Found 418141 objects passing the selection\n"
     ]
    },
    {
     "data": {
      "text/plain": [
       "74"
      ]
     },
     "execution_count": 11,
     "metadata": {},
     "output_type": "execute_result"
    }
   ],
   "source": [
    "electrons = Collections(events, 'Electron', 'tight', verbose=1).get()\n",
    "\n",
    "# only gen matched electrons\n",
    "electrons = electrons[electrons.genPartIdx>=0]\n",
    "\n",
    "# require exactly two electrons\n",
    "ele = electrons[((ak.num(electrons,axis=1)==2)&(ak.sum(electrons.charge, axis=1)!=0))]\n",
    "\n",
    "# how many are left?\n",
    "len(ele)"
   ]
  },
  {
   "cell_type": "code",
   "execution_count": 2,
   "id": "2a7cab2f",
   "metadata": {},
   "outputs": [
    {
     "name": "stdout",
     "output_type": "stream",
     "text": [
      "\n",
      "## Electron selection for WP tight ##\n",
      " - pt >= 15\n",
      " - abs(etaSC) <= 2.5\n",
      " - convVeto == 1\n",
      " - lostHits == 0\n",
      " - tightCharge == 2\n",
      " - abs(dxy) <= 0.05\n",
      " - abs(dz) <= 0.1\n",
      " - abs(sip3d) <= 4.0\n",
      " - tight electron MVA ID\n",
      " - custom multi isolation\n",
      " - trigger safe\n",
      " - custom ID and multi-isolation\n",
      "Found 418141 objects passing the selection\n",
      "Number of events with prompt SS: 21\n"
     ]
    },
    {
     "data": {
      "text/plain": [
       "18"
      ]
     },
     "execution_count": 2,
     "metadata": {},
     "output_type": "execute_result"
    }
   ],
   "source": [
    "import numpy as np\n",
    "\n",
    "electron = Collections(events, 'Electron', 'tight', verbose=1).get()\n",
    "electron = electron[(electron.pt > 20) & (np.abs(electron.eta) < 2.4)]\n",
    "electron = electron[(electron.genPartIdx >= 0)] #from here on all leptons are gen-matched\n",
    "electron = electron[(np.abs(electron.matched_gen.pdgId)==11)]\n",
    "electron = electron[( (electron.genPartFlav==1) | (electron.genPartFlav==15) )] #and now they are all prompt\n",
    "\n",
    "electron = electron[((ak.num(electron,axis=1)==2)&(ak.sum(electron.charge, axis=1)!=0))]\n",
    "\n",
    "print (\"Number of events with prompt SS:\", len(electron))\n",
    "\n",
    "flipped = (electron.pdgId*(-1) == electron.matched_gen.pdgId)\n",
    "flipped_electron = electron[flipped]\n",
    "\n",
    "len(electron[(ak.num(flipped_electron, axis=1)>0)])\n",
    "\n"
   ]
  },
  {
   "cell_type": "code",
   "execution_count": 23,
   "id": "810b517c",
   "metadata": {},
   "outputs": [
    {
     "name": "stdout",
     "output_type": "stream",
     "text": [
      "\n",
      "## Electron selection for WP tight ##\n",
      " - pt >= 15\n",
      " - abs(etaSC) <= 2.5\n",
      " - convVeto == 1\n",
      " - lostHits == 0\n",
      " - tightCharge == 2\n",
      " - abs(dxy) <= 0.05\n",
      " - abs(dz) <= 0.1\n",
      " - abs(sip3d) <= 4.0\n",
      " - tight electron MVA ID\n",
      " - custom multi isolation\n",
      " - trigger safe\n",
      " - custom ID and multi-isolation\n",
      "Found 418141 objects passing the selection\n"
     ]
    }
   ],
   "source": [
    "electron = Collections(events, 'Electron', 'tight', verbose=1).get()\n",
    "electron = electron[(electron.pt > 20) & (np.abs(electron.eta) < 2.4)]\n",
    "electron = electron[(electron.genPartIdx >= 0)] #from here on all leptons are gen-matched\n",
    "electron = electron[(np.abs(electron.matched_gen.pdgId)==11)]\n",
    "electron = electron[( (electron.genPartFlav==1) | (electron.genPartFlav==15) )] #and now they are all prompt\n",
    "\n",
    "flipped = (electron.pdgId*(-1) == electron.matched_gen.pdgId)\n",
    "flipped_electron = electron[flipped]"
   ]
  },
  {
   "cell_type": "code",
   "execution_count": 24,
   "id": "da8c7444",
   "metadata": {},
   "outputs": [
    {
     "data": {
      "text/plain": [
       "<Array [6853556, 33539380, 64376350] type='3 * uint64[parameters={\"__doc__\": \"ev...'>"
      ]
     },
     "execution_count": 24,
     "metadata": {},
     "output_type": "execute_result"
    }
   ],
   "source": [
    "non_flip_events = events[((ak.num(electron, axis=1)==2)&(ak.sum(electron.charge, axis=1)!=0)&(ak.num(flipped_electron, axis=1)==0))]\n",
    "non_flip_events.event"
   ]
  },
  {
   "cell_type": "code",
   "execution_count": 14,
   "id": "3035d735",
   "metadata": {},
   "outputs": [
    {
     "data": {
      "text/plain": [
       "<Array [2, 2, 2, 2, 2, 2, ... 2, 2, 2, 2, 2, 2] type='21 * int64'>"
      ]
     },
     "execution_count": 14,
     "metadata": {},
     "output_type": "execute_result"
    }
   ],
   "source": [
    "ak.num(electron, axis=1)"
   ]
  },
  {
   "cell_type": "code",
   "execution_count": 13,
   "id": "c174bc4a",
   "metadata": {},
   "outputs": [
    {
     "data": {
      "text/plain": [
       "<Array [[9.83], [17.5], [15.7]] type='3 * var * float32[parameters={\"__doc__\": \"...'>"
      ]
     },
     "execution_count": 13,
     "metadata": {},
     "output_type": "execute_result"
    }
   ],
   "source": [
    "non_flip_events.Electron.pt"
   ]
  },
  {
   "cell_type": "code",
   "execution_count": null,
   "id": "697fb551",
   "metadata": {},
   "outputs": [],
   "source": [
    "flipped_electron = electron[flipped]"
   ]
  },
  {
   "cell_type": "code",
   "execution_count": 8,
   "id": "4349302e",
   "metadata": {},
   "outputs": [
    {
     "data": {
      "text/plain": [
       "<Array [919, 919, 919] type='3 * uint32[parameters={\"__doc__\": \"luminosityBlock/...'>"
      ]
     },
     "execution_count": 8,
     "metadata": {},
     "output_type": "execute_result"
    }
   ],
   "source": [
    "non_flip_events.luminosityBlock"
   ]
  },
  {
   "cell_type": "code",
   "execution_count": 23,
   "id": "63ae9d74",
   "metadata": {},
   "outputs": [
    {
     "name": "stdout",
     "output_type": "stream",
     "text": [
      "[24, -24]\n",
      "[-24, 24]\n",
      "[24, -24]\n",
      "[-24, 24]\n",
      "[24, -24]\n",
      "[-24, 24]\n",
      "[-24, -24]\n",
      "[-24, 24]\n",
      "[24, -24]\n",
      "[-24, 24]\n",
      "[24, -24]\n",
      "[-24, -24]\n",
      "[-15, -24]\n",
      "[24, -24]\n",
      "[-24, 24]\n",
      "[24, -24]\n",
      "[-24, 24]\n",
      "[-24, 24]\n",
      "[24, -24]\n",
      "[24, -24]\n",
      "[-24, 24]\n"
     ]
    }
   ],
   "source": [
    "for x in find_first_parent(electron.matched_gen):\n",
    "    print (x)"
   ]
  },
  {
   "cell_type": "code",
   "execution_count": 15,
   "id": "2e1ab322",
   "metadata": {},
   "outputs": [
    {
     "data": {
      "text/plain": [
       "<Array [[-11, 11], [-11, ... -11], [-11, 11]] type='28 * var * ?int32[parameters...'>"
      ]
     },
     "execution_count": 15,
     "metadata": {},
     "output_type": "execute_result"
    }
   ],
   "source": [
    "electron.matched_gen.pdgId"
   ]
  },
  {
   "cell_type": "code",
   "execution_count": 5,
   "id": "9745d07f",
   "metadata": {},
   "outputs": [],
   "source": [
    "prompt = ele[((ele.genPartFlav==1)|(ele.genPartFlav==15))]"
   ]
  },
  {
   "cell_type": "code",
   "execution_count": 7,
   "id": "e04b52fe",
   "metadata": {},
   "outputs": [
    {
     "data": {
      "text/plain": [
       "<ElectronArray [[Electron, Electron, ... Electron]] type='28 * var * electron'>"
      ]
     },
     "execution_count": 7,
     "metadata": {},
     "output_type": "execute_result"
    }
   ],
   "source": [
    "ele[(ak.num(prompt, axis=1)==2)]"
   ]
  },
  {
   "cell_type": "code",
   "execution_count": 3,
   "id": "7cb18f47",
   "metadata": {},
   "outputs": [
    {
     "data": {
      "text/plain": [
       "<Array [[1, 1], [1, 1], ... [-1, -1], [-1, -1]] type='74 * var * int32[parameter...'>"
      ]
     },
     "execution_count": 3,
     "metadata": {},
     "output_type": "execute_result"
    }
   ],
   "source": [
    "# check that this is really all SS\n",
    "ele.charge"
   ]
  },
  {
   "cell_type": "code",
   "execution_count": 4,
   "id": "981803fa",
   "metadata": {},
   "outputs": [
    {
     "data": {
      "text/plain": [
       "<Array [[True, True], ... [False, True]] type='74 * var * ?bool'>"
      ]
     },
     "execution_count": 4,
     "metadata": {},
     "output_type": "execute_result"
    }
   ],
   "source": [
    "ele.pdgId*(-1) == ele.matched_gen.pdgId"
   ]
  },
  {
   "cell_type": "code",
   "execution_count": 5,
   "id": "41d11737",
   "metadata": {},
   "outputs": [
    {
     "data": {
      "text/plain": [
       "<Array [2, 2, 2, 2, 2, 2, ... 2, 2, 2, 2, 2, 2] type='74 * int64'>"
      ]
     },
     "execution_count": 5,
     "metadata": {},
     "output_type": "execute_result"
    }
   ],
   "source": [
    "ak.num((ele.pdgId == ele.matched_gen.pdgId), axis=1)"
   ]
  },
  {
   "cell_type": "code",
   "execution_count": 15,
   "id": "cefeef48",
   "metadata": {},
   "outputs": [
    {
     "data": {
      "text/plain": [
       "<Array [[-11, -11], [-11, ... 11], [11, 11]] type='29 * var * int32[parameters={...'>"
      ]
     },
     "execution_count": 15,
     "metadata": {},
     "output_type": "execute_result"
    }
   ],
   "source": [
    "ele.pdgId"
   ]
  },
  {
   "cell_type": "code",
   "execution_count": 16,
   "id": "4ed8c13b",
   "metadata": {},
   "outputs": [
    {
     "data": {
      "text/plain": [
       "<Array [[-11, -11], [-11, ... 11], [11, 11]] type='29 * var * ?int32[parameters=...'>"
      ]
     },
     "execution_count": 16,
     "metadata": {},
     "output_type": "execute_result"
    }
   ],
   "source": [
    "ele.matched_gen.pdgId"
   ]
  },
  {
   "cell_type": "code",
   "execution_count": 6,
   "id": "b65c6289",
   "metadata": {},
   "outputs": [],
   "source": [
    "flipped_ele = ele[(ele.pdgId*(-1) == ele.matched_gen.pdgId)]"
   ]
  },
  {
   "cell_type": "code",
   "execution_count": 7,
   "id": "76510463",
   "metadata": {},
   "outputs": [
    {
     "data": {
      "text/plain": [
       "<Array [0, 0, 0, 0, 1, 0, ... 0, 1, 0, 0, 1, 1] type='74 * int64'>"
      ]
     },
     "execution_count": 7,
     "metadata": {},
     "output_type": "execute_result"
    }
   ],
   "source": [
    "ak.num(flipped_ele, axis=1)"
   ]
  },
  {
   "cell_type": "code",
   "execution_count": 8,
   "id": "2b84f914",
   "metadata": {},
   "outputs": [
    {
     "data": {
      "text/plain": [
       "23"
      ]
     },
     "execution_count": 8,
     "metadata": {},
     "output_type": "execute_result"
    }
   ],
   "source": [
    "# flipped electrons\n",
    "sum(ak.num(flipped_ele, axis=1))"
   ]
  },
  {
   "cell_type": "code",
   "execution_count": 9,
   "id": "d8d28160",
   "metadata": {},
   "outputs": [
    {
     "data": {
      "text/plain": [
       "74"
      ]
     },
     "execution_count": 9,
     "metadata": {},
     "output_type": "execute_result"
    }
   ],
   "source": [
    "# total events with SS\n",
    "len(flipped_ele)"
   ]
  },
  {
   "cell_type": "code",
   "execution_count": 10,
   "id": "78c4b284",
   "metadata": {},
   "outputs": [],
   "source": [
    "parents = find_first_parent(ele.matched_gen)"
   ]
  },
  {
   "cell_type": "code",
   "execution_count": 11,
   "id": "7cdf6f05",
   "metadata": {},
   "outputs": [
    {
     "name": "stdout",
     "output_type": "stream",
     "text": [
      "[[24, -511], [24, 531], [24, -5132], [24, ... 511], [-521, 15], [-24, 24], [24, -24]]\n"
     ]
    }
   ],
   "source": [
    "print (parents)"
   ]
  },
  {
   "cell_type": "code",
   "execution_count": 12,
   "id": "fa3e6f95",
   "metadata": {},
   "outputs": [],
   "source": [
    "non_prompt = ele[abs(parents)>24]"
   ]
  },
  {
   "cell_type": "code",
   "execution_count": 14,
   "id": "781e803b",
   "metadata": {},
   "outputs": [
    {
     "data": {
      "text/plain": [
       "45"
      ]
     },
     "execution_count": 14,
     "metadata": {},
     "output_type": "execute_result"
    }
   ],
   "source": [
    "sum(ak.num(non_prompt))"
   ]
  },
  {
   "cell_type": "code",
   "execution_count": 19,
   "id": "88d86013",
   "metadata": {},
   "outputs": [],
   "source": [
    "prompt = ele[abs(parents)<25]"
   ]
  },
  {
   "cell_type": "code",
   "execution_count": 20,
   "id": "0c23b925",
   "metadata": {},
   "outputs": [
    {
     "data": {
      "text/plain": [
       "<Array [1, 1, 1, 1, 2, 2, ... 1, 2, 1, 1, 2, 2] type='74 * int64'>"
      ]
     },
     "execution_count": 20,
     "metadata": {},
     "output_type": "execute_result"
    }
   ],
   "source": [
    "ak.num(prompt)"
   ]
  },
  {
   "cell_type": "code",
   "execution_count": 23,
   "id": "266f504f",
   "metadata": {},
   "outputs": [
    {
     "data": {
      "text/plain": [
       "29"
      ]
     },
     "execution_count": 23,
     "metadata": {},
     "output_type": "execute_result"
    }
   ],
   "source": [
    "diprompt = ele[(ak.num(prompt, axis=1)==2)]\n",
    "len(diprompt)"
   ]
  },
  {
   "cell_type": "code",
   "execution_count": 24,
   "id": "84d914e4",
   "metadata": {},
   "outputs": [
    {
     "data": {
      "text/plain": [
       "23"
      ]
     },
     "execution_count": 24,
     "metadata": {},
     "output_type": "execute_result"
    }
   ],
   "source": [
    "flipped_prompt = diprompt[(diprompt.pdgId*(-1) == diprompt.matched_gen.pdgId)]\n",
    "sum(ak.num(flipped_prompt, axis=1))\n",
    "#diprompt"
   ]
  },
  {
   "cell_type": "code",
   "execution_count": 25,
   "id": "7ea89a20",
   "metadata": {},
   "outputs": [
    {
     "name": "stdout",
     "output_type": "stream",
     "text": [
      "[[24, -24], [-24, 24], [24, 1], [24, -24, ... 24], [24, -24], [-24, 24], [24, -24]]\n"
     ]
    }
   ],
   "source": [
    "parents = find_first_parent(diprompt.matched_gen)\n",
    "print(parents)"
   ]
  },
  {
   "cell_type": "code",
   "execution_count": 26,
   "id": "6a7d4d98",
   "metadata": {},
   "outputs": [
    {
     "name": "stdout",
     "output_type": "stream",
     "text": [
      "[24, -24]\n",
      "[-24, 24]\n",
      "[24, 1]\n",
      "[24, -24]\n",
      "[24, -24]\n",
      "[-24, 24]\n",
      "[24, -24]\n",
      "[-24, 24]\n",
      "[-24, -24]\n",
      "[24, -6]\n",
      "[-24, 24]\n",
      "[24, -24]\n",
      "[-24, 24]\n",
      "[24, -24]\n",
      "[24, -24]\n",
      "[-24, -24]\n",
      "[-15, -24]\n",
      "[24, -5]\n",
      "[-24, -15]\n",
      "[24, -24]\n",
      "[-24, 24]\n",
      "[24, -24]\n",
      "[-24, 24]\n",
      "[-24, 24]\n",
      "[24, -24]\n",
      "[-24, 24]\n",
      "[24, -24]\n",
      "[-24, 24]\n",
      "[24, -24]\n"
     ]
    }
   ],
   "source": [
    "for pair in parents:\n",
    "    print (pair)"
   ]
  },
  {
   "cell_type": "code",
   "execution_count": 27,
   "id": "073e0133",
   "metadata": {},
   "outputs": [
    {
     "name": "stdout",
     "output_type": "stream",
     "text": [
      "[-1, -1]\n",
      "[1, 1]\n",
      "[1, 1]\n",
      "[-1, -1]\n",
      "[-1, -1]\n",
      "[-1, -1]\n",
      "[-1, -1]\n",
      "[1, 1]\n",
      "[-1, -1]\n",
      "[1, 1]\n",
      "[1, 1]\n",
      "[-1, -1]\n",
      "[-1, -1]\n",
      "[1, 1]\n",
      "[-1, -1]\n",
      "[-1, -1]\n",
      "[-1, -1]\n",
      "[1, 1]\n",
      "[-1, -1]\n",
      "[-1, -1]\n",
      "[-1, -1]\n",
      "[1, 1]\n",
      "[-1, -1]\n",
      "[-1, -1]\n",
      "[-1, -1]\n",
      "[1, 1]\n",
      "[-1, -1]\n",
      "[-1, -1]\n",
      "[-1, -1]\n"
     ]
    }
   ],
   "source": [
    "for ch in diprompt.charge:\n",
    "    print (ch)"
   ]
  },
  {
   "cell_type": "code",
   "execution_count": 29,
   "id": "ba9af668",
   "metadata": {},
   "outputs": [
    {
     "name": "stdout",
     "output_type": "stream",
     "text": [
      "[24, -24]\n",
      "[24, -24]\n",
      "[24, -24]\n",
      "[-24, 24]\n",
      "[24, -24]\n",
      "[-24, 24]\n",
      "[-24, 24]\n",
      "[24, -24]\n",
      "[-24, 24]\n",
      "[24, -24]\n",
      "[24, -24]\n",
      "[-15, -24]\n",
      "[-24, -15]\n",
      "[24, -24]\n",
      "[-24, 24]\n",
      "[24, -24]\n",
      "[-24, 24]\n",
      "[-24, 24]\n",
      "[24, -24]\n",
      "[-24, 24]\n",
      "[24, -24]\n",
      "[-24, 24]\n",
      "[24, -24]\n"
     ]
    }
   ],
   "source": [
    "for pair in find_first_parent(diprompt[(ak.num(flipped_prompt, axis=1)>0)].matched_gen):\n",
    "    print (pair)"
   ]
  },
  {
   "cell_type": "markdown",
   "id": "6d566807",
   "metadata": {},
   "source": [
    "# Trilep checks"
   ]
  },
  {
   "cell_type": "code",
   "execution_count": 45,
   "id": "b1c14c10",
   "metadata": {},
   "outputs": [],
   "source": [
    "#f_in = 'root://xcache-redirector.t2.ucsd.edu:2042//store/mc/RunIIAutumn18NanoAODv7/TTWJetsToLNu_TuneCP5_13TeV-amcatnloFXFX-madspin-pythia8/NANOAODSIM/Nano02Apr2020_102X_upgrade2018_realistic_v21_ext1-v1/60000/02232B20-7228-4348-84C7-72DAFDC2CEB7.root'\n",
    "f_in = 'root://xcache-redirector.t2.ucsd.edu:2042//store/mc/RunIISummer20UL18NanoAODv2/TTZToLLNuNu_M-10_TuneCP5_13TeV-amcatnlo-pythia8/NANOAODSIM/106X_upgrade2018_realistic_v15_L1v1-v1/30000/13C6DDDD-1DE7-CB48-AC06-9B28CC47D344.root'\n",
    "\n",
    "events = NanoEventsFactory.from_root(\n",
    "    f_in,\n",
    "    schemaclass = NanoAODSchema,\n",
    "    #entry_stop = n_max,\n",
    ").events()\n"
   ]
  },
  {
   "cell_type": "code",
   "execution_count": 46,
   "id": "606dbb11",
   "metadata": {},
   "outputs": [
    {
     "name": "stdout",
     "output_type": "stream",
     "text": [
      "\n",
      "## Electron selection for WP tight ##\n",
      " - pt >= 15\n",
      " - abs(etaSC) <= 2.5\n",
      " - convVeto == 1\n",
      " - lostHits == 0\n",
      " - tightCharge == 2\n",
      " - abs(dxy) <= 0.05\n",
      " - abs(dz) <= 0.1\n",
      " - abs(sip3d) <= 4.0\n",
      " - tight electron MVA ID\n",
      " - custom multi isolation\n",
      " - trigger safe\n",
      " - custom ID and multi-isolation\n",
      "Found 284052 objects passing the selection\n",
      "\n",
      "## Muon selection for WP tight ##\n",
      " - pt >= 15\n",
      " - abs(eta) <= 2.4\n",
      " - mediumId == 1\n",
      " - looseId == 1\n",
      " - abs(dxy) <= 0.05\n",
      " - abs(dz) <= 0.05\n",
      " - abs(sip3d) <= 4\n",
      " - ptErrRel <= 0.2\n",
      " - custom multi isolation\n",
      " - custom multi-isolation\n",
      "Found 383144 objects passing the selection\n"
     ]
    }
   ],
   "source": [
    "electron = Collections(events, 'Electron', 'tight', verbose=1).get()\n",
    "muon = Collections(events, 'Muon', 'tight', verbose=1).get()"
   ]
  },
  {
   "cell_type": "code",
   "execution_count": 47,
   "id": "1fa8eeac",
   "metadata": {},
   "outputs": [],
   "source": [
    "trilep_events = events[((ak.num(electron, axis=1)+ak.num(muon, axis=1))==3)]"
   ]
  },
  {
   "cell_type": "code",
   "execution_count": 48,
   "id": "2a3c3a32",
   "metadata": {},
   "outputs": [
    {
     "data": {
      "text/plain": [
       "33869"
      ]
     },
     "execution_count": 48,
     "metadata": {},
     "output_type": "execute_result"
    }
   ],
   "source": [
    "len(trilep_events)"
   ]
  },
  {
   "cell_type": "code",
   "execution_count": 49,
   "id": "aef56991",
   "metadata": {},
   "outputs": [],
   "source": [
    "from Tools.objects import choose\n",
    "\n",
    "dimu_veto = choose(muon,2)\n",
    "diele_veto = choose(electron,2)\n",
    "OS_dimu_veto = dimu_veto[(dimu_veto['0'].charge*dimu_veto['1'].charge < 0)]\n",
    "OS_diele_veto = diele_veto[(diele_veto['0'].charge*diele_veto['1'].charge < 0)]\n"
   ]
  },
  {
   "cell_type": "code",
   "execution_count": 50,
   "id": "735216e7",
   "metadata": {},
   "outputs": [
    {
     "data": {
      "text/plain": [
       "<CandidateArray [[], [], [], ... '0': Muon, '1': Muon}]] type='1018000 * var * C...'>"
      ]
     },
     "execution_count": 50,
     "metadata": {},
     "output_type": "execute_result"
    }
   ],
   "source": [
    "OS_dimu_veto"
   ]
  },
  {
   "cell_type": "code",
   "execution_count": 51,
   "id": "3b6fbdca",
   "metadata": {},
   "outputs": [],
   "source": [
    "SFOS = ak.concatenate([OS_diele_veto, OS_dimu_veto], axis=1)"
   ]
  },
  {
   "cell_type": "code",
   "execution_count": 52,
   "id": "0110695a",
   "metadata": {},
   "outputs": [
    {
     "data": {
      "text/plain": [
       "<NanoEventsArray [<event 1:35:34152>, ... ] type='33080 * event'>"
      ]
     },
     "execution_count": 52,
     "metadata": {},
     "output_type": "execute_result"
    }
   ],
   "source": [
    "events[((ak.num(SFOS)>0)&((ak.num(electron, axis=1)+ak.num(muon, axis=1))==3))]"
   ]
  },
  {
   "cell_type": "code",
   "execution_count": 53,
   "id": "ccc55d7f",
   "metadata": {},
   "outputs": [
    {
     "data": {
      "text/plain": [
       "0.9767043609200153"
      ]
     },
     "execution_count": 53,
     "metadata": {},
     "output_type": "execute_result"
    }
   ],
   "source": [
    "33080/33869"
   ]
  },
  {
   "cell_type": "code",
   "execution_count": 38,
   "id": "621b1deb",
   "metadata": {},
   "outputs": [
    {
     "data": {
      "text/plain": [
       "0.7479327820752201"
      ]
     },
     "execution_count": 38,
     "metadata": {},
     "output_type": "execute_result"
    }
   ],
   "source": [
    "2804/3749"
   ]
  },
  {
   "cell_type": "code",
   "execution_count": 54,
   "id": "c4d200f6",
   "metadata": {},
   "outputs": [
    {
     "data": {
      "text/plain": [
       "<NanoEventsArray [<event 1:35:34395>, ... ] type='789 * event'>"
      ]
     },
     "execution_count": 54,
     "metadata": {},
     "output_type": "execute_result"
    }
   ],
   "source": [
    "events[((ak.num(SFOS)==0)&((ak.num(electron, axis=1)+ak.num(muon, axis=1))==3))]"
   ]
  },
  {
   "cell_type": "code",
   "execution_count": 40,
   "id": "9b193759",
   "metadata": {},
   "outputs": [
    {
     "data": {
      "text/plain": [
       "0.25206721792477993"
      ]
     },
     "execution_count": 40,
     "metadata": {},
     "output_type": "execute_result"
    }
   ],
   "source": [
    "945/3749"
   ]
  },
  {
   "cell_type": "code",
   "execution_count": 55,
   "id": "2df6e8cd",
   "metadata": {},
   "outputs": [
    {
     "data": {
      "text/plain": [
       "<NanoEventsArray [<event 1:35:34189>, ... ] type='17010 * event'>"
      ]
     },
     "execution_count": 55,
     "metadata": {},
     "output_type": "execute_result"
    }
   ],
   "source": [
    "events[((ak.sum(electron.charge, axis=1)+(ak.sum(muon.charge, axis=1))<0)&((ak.num(electron, axis=1)+ak.num(muon, axis=1))==3))]"
   ]
  },
  {
   "cell_type": "code",
   "execution_count": 56,
   "id": "0a858b6a",
   "metadata": {},
   "outputs": [
    {
     "data": {
      "text/plain": [
       "0.5022291771236234"
      ]
     },
     "execution_count": 56,
     "metadata": {},
     "output_type": "execute_result"
    }
   ],
   "source": [
    "17010/33869"
   ]
  },
  {
   "cell_type": "code",
   "execution_count": null,
   "id": "6a486246",
   "metadata": {},
   "outputs": [],
   "source": []
  }
 ],
 "metadata": {
  "kernelspec": {
   "display_name": "coffeadev3",
   "language": "python",
   "name": "coffeadev3"
  },
  "language_info": {
   "codemirror_mode": {
    "name": "ipython",
    "version": 3
   },
   "file_extension": ".py",
   "mimetype": "text/x-python",
   "name": "python",
   "nbconvert_exporter": "python",
   "pygments_lexer": "ipython3",
   "version": "3.9.2"
  }
 },
 "nbformat": 4,
 "nbformat_minor": 5
}
